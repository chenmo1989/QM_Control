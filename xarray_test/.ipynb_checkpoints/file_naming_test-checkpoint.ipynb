{
 "cells": [
  {
   "cell_type": "markdown",
   "id": "024ffde4-b7a5-4538-95fa-3a19dc38a9d4",
   "metadata": {},
   "source": [
    "# This script tests finding and naming files with ordering subfix"
   ]
  },
  {
   "cell_type": "code",
   "execution_count": 1,
   "id": "4f565340-eae2-4e51-9b7e-f33cb7b71786",
   "metadata": {},
   "outputs": [],
   "source": [
    "import os\n",
    "import glob"
   ]
  },
  {
   "cell_type": "code",
   "execution_count": 37,
   "id": "59b4bced-9a2e-4a4e-af16-e1777383d6cd",
   "metadata": {},
   "outputs": [],
   "source": [
    "tPath = \"/Users/chenmo/Documents/GitHub/QM_control/xarray_test\"\n",
    "tPath = os.path.join(tPath,'file_naming_test//')"
   ]
  },
  {
   "cell_type": "code",
   "execution_count": 38,
   "id": "1ab51e0f-5531-45a4-a720-f276c600da0a",
   "metadata": {},
   "outputs": [],
   "source": [
    "if not os.path.exists(tPath):\n",
    "    os.makedirs(tPath)"
   ]
  },
  {
   "cell_type": "code",
   "execution_count": 39,
   "id": "879f109c-70b5-4874-8f03-03c926df7ca5",
   "metadata": {},
   "outputs": [
    {
     "name": "stdout",
     "output_type": "stream",
     "text": [
      "/Users/chenmo/Documents/GitHub/QM_control/xarray_test/file_naming_test/example.nc\n",
      "/Users/chenmo/Documents/GitHub/QM_control/xarray_test/file_naming_test/example_3.nc\n",
      "/Users/chenmo/Documents/GitHub/QM_control/xarray_test/file_naming_test/example_2.nc\n",
      "/Users/chenmo/Documents/GitHub/QM_control/xarray_test/file_naming_test/example_5.nc\n",
      "/Users/chenmo/Documents/GitHub/QM_control/xarray_test/file_naming_test/example_4.nc\n"
     ]
    }
   ],
   "source": [
    "for files in glob.glob(tPath + 'example*'):\n",
    "    print(files)"
   ]
  },
  {
   "cell_type": "code",
   "execution_count": 40,
   "id": "033112b2-11c2-4117-94ee-adeb7aa7760e",
   "metadata": {},
   "outputs": [
    {
     "name": "stdout",
     "output_type": "stream",
     "text": [
      "/Users/chenmo/Documents/GitHub/QM_control/xarray_test/file_naming_test/example.nc\n",
      "/Users/chenmo/Documents/GitHub/QM_control/xarray_test/file_naming_test/example_3.nc\n",
      "/Users/chenmo/Documents/GitHub/QM_control/xarray_test/file_naming_test/example_2.nc\n",
      "/Users/chenmo/Documents/GitHub/QM_control/xarray_test/file_naming_test/example_5.nc\n",
      "/Users/chenmo/Documents/GitHub/QM_control/xarray_test/file_naming_test/example_4.nc\n"
     ]
    }
   ],
   "source": [
    "for files in glob.glob(tPath + '*'):\n",
    "    print(files)"
   ]
  },
  {
   "cell_type": "code",
   "execution_count": 42,
   "id": "85641fd3-16c1-4248-b092-c4fc11191909",
   "metadata": {},
   "outputs": [
    {
     "data": {
      "text/plain": [
       "0"
      ]
     },
     "execution_count": 42,
     "metadata": {},
     "output_type": "execute_result"
    }
   ],
   "source": [
    "len(glob.glob(tPath + 'example2*'))"
   ]
  },
  {
   "cell_type": "code",
   "execution_count": 21,
   "id": "5c359eb9-fcac-4b1e-8d83-44580cbcb0b2",
   "metadata": {},
   "outputs": [
    {
     "data": {
      "text/plain": [
       "'/Users/chenmo/Documents/GitHub/QM_control/xarray_test/file_naming_test//'"
      ]
     },
     "execution_count": 21,
     "metadata": {},
     "output_type": "execute_result"
    }
   ],
   "source": [
    "tPath"
   ]
  },
  {
   "cell_type": "code",
   "execution_count": null,
   "id": "317db974-ae96-4bc4-a8a2-8ab161702483",
   "metadata": {},
   "outputs": [],
   "source": []
  }
 ],
 "metadata": {
  "kernelspec": {
   "display_name": "Python 3 (ipykernel)",
   "language": "python",
   "name": "python3"
  },
  "language_info": {
   "codemirror_mode": {
    "name": "ipython",
    "version": 3
   },
   "file_extension": ".py",
   "mimetype": "text/x-python",
   "name": "python",
   "nbconvert_exporter": "python",
   "pygments_lexer": "ipython3",
   "version": "3.9.19"
  }
 },
 "nbformat": 4,
 "nbformat_minor": 5
}
