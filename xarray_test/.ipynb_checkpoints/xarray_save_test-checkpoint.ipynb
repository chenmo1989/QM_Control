{
 "cells": [
  {
   "cell_type": "markdown",
   "id": "6eed5482-367e-4294-9a62-3170d38607e5",
   "metadata": {},
   "source": [
    "# Test the to_netCDF() save function of xarray, when it's passed through functions"
   ]
  },
  {
   "cell_type": "code",
   "execution_count": 2,
   "id": "ceb4dcee-204c-4ea8-9bce-5ac557112e35",
   "metadata": {},
   "outputs": [],
   "source": [
    "%matplotlib inline\n",
    "import numpy as np\n",
    "import pandas as pd\n",
    "import xarray as xr\n",
    "import datetime\n",
    "from matplotlib import pyplot as plt"
   ]
  },
  {
   "cell_type": "code",
   "execution_count": 8,
   "id": "356a825f-8a6e-4a92-8988-32d22a858cee",
   "metadata": {},
   "outputs": [
    {
     "ename": "IndentationError",
     "evalue": "unindent does not match any outer indentation level (<tokenize>, line 22)",
     "output_type": "error",
     "traceback": [
      "\u001b[0;36m  File \u001b[0;32m<tokenize>:22\u001b[0;36m\u001b[0m\n\u001b[0;31m    def generate_save_path(self, timestamp):\u001b[0m\n\u001b[0m    ^\u001b[0m\n\u001b[0;31mIndentationError\u001b[0m\u001b[0;31m:\u001b[0m unindent does not match any outer indentation level\n"
     ]
    }
   ],
   "source": [
    "class DataLoggingHandle:\n",
    "\tdef __init__(self):\n",
    "\t\tpass\n",
    "\n",
    "\tdef save(self, expt_dataset, expt_name,):\n",
    "\t\t# save base attributes\n",
    "\t\texpt_dataset.attrs['name'] = expt_name\n",
    "        timestamp = datetime.datetime.now()\n",
    "\t\t# generate path, filename, save directory\n",
    "\t\ttPath = self.generate_save_path(timestamp)\n",
    "\t\tprint(tPath)\n",
    "\t\tresult_filepath = os.path.join(tPath, self.generate_filename(expt_dataset.attrs[\"name\"], timestamp, tPath)) # without extension\n",
    "\t\tprint(result_filepath)\n",
    "\t\texpt_dataset.attrs[\"directory\"] = result_filepath\n",
    "\t\t# save data and json settings\n",
    "\t\tprint('-'*10 + 'saved to ' + result_filepath) \n",
    "\t\texpt_dataset.to_netcdf(result_filepath + '.nc')\n",
    "\t\treturn expt_dataset\n",
    "    def generate_save_path(self, timestamp):\n",
    "\t\tyear = timestamp.strftime(\"%Y\")\n",
    "\t\tmonth = timestamp.strftime(\"%m\")\n",
    "\t\tday = timestamp.strftime(\"%d\")\n",
    "\t\ttPath = os.path.join(r'/Users/chenmo/Documents/GitHub/QM_control/xarray_test',year,month,'Data_'+month+day+'/')\n",
    "\t\tif not os.path.exists(tPath):\n",
    "\t\t\tos.makedirs(tPath)\n",
    "\t\tself.tPath = tPath\n",
    "\t\treturn tPath\n",
    "    def generate_filename(self, expt_prefix, timestamp, tPath):\n",
    "\t\tnum_file = len(glob.glob(tPath + expt_prefix+'*'))\n",
    "\n",
    "\t\tdate = '{}'.format(timestamp.strftime('%Y-%m-%d'))\n",
    "\n",
    "\t\tif num_file == 0:\n",
    "\t\t\ttFilename = \"{}_{}\".format(date, expt_prefix)\n",
    "\t\telse:\n",
    "\t\t\ttFilename = \"{}_{}_{}\".format(date, expt_prefix, num_file+1)\n",
    "\n",
    "\t\treturn tFilename"
   ]
  },
  {
   "cell_type": "code",
   "execution_count": null,
   "id": "a6adfe8e-7886-495a-a037-099e96dae7ae",
   "metadata": {},
   "outputs": [],
   "source": []
  },
  {
   "cell_type": "code",
   "execution_count": null,
   "id": "9f4c1d3c-a178-4530-a0e0-992adf289906",
   "metadata": {},
   "outputs": [],
   "source": []
  }
 ],
 "metadata": {
  "kernelspec": {
   "display_name": "Python 3 (ipykernel)",
   "language": "python",
   "name": "python3"
  },
  "language_info": {
   "codemirror_mode": {
    "name": "ipython",
    "version": 3
   },
   "file_extension": ".py",
   "mimetype": "text/x-python",
   "name": "python",
   "nbconvert_exporter": "python",
   "pygments_lexer": "ipython3",
   "version": "3.9.19"
  }
 },
 "nbformat": 4,
 "nbformat_minor": 5
}
