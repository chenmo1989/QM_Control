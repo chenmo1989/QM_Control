{
 "cells": [
  {
   "cell_type": "markdown",
   "id": "fad0630c",
   "metadata": {},
   "source": [
    "# Function tests of QMC package"
   ]
  },
  {
   "cell_type": "code",
   "execution_count": 1,
   "id": "6bdd5971",
   "metadata": {},
   "outputs": [
    {
     "name": "stdout",
     "output_type": "stream",
     "text": [
      "2024-05-08 15:05:10,169 - qm - INFO     - Starting session: ed15e432-e31f-47ef-9492-05eb36b336fd\n"
     ]
    }
   ],
   "source": [
    "from qm.qua import *\n",
    "from qm import QuantumMachinesManager, SimulationConfig, LoopbackInterface, generate_qua_script\n",
    "from qm.octave import *\n",
    "from configuration import *\n",
    "from scipy import signal\n",
    "from qualang_tools.bakery import baking\n",
    "from qm.octave import QmOctaveConfig\n",
    "from quam import QuAM\n",
    "from scipy.io import savemat, loadmat\n",
    "from scipy.optimize import curve_fit\n",
    "from scipy.signal import savgol_filter\n",
    "#from qutip import *\n",
    "from typing import Union\n",
    "from macros import *\n",
    "import datetime \n",
    "import os\n",
    "import time\n",
    "import warnings\n",
    "import json\n",
    "import matplotlib.pyplot as plt\n",
    "import numpy as np\n",
    "import Labber\n",
    "\n",
    "from ExperimentClass import ExperimentHandle\n",
    "from AnalysisClass import AnalysisHandle\n",
    "\n",
    "warnings.filterwarnings(\"ignore\")\n",
    "\n",
    "qubit_index = 0 # for UA Q2\n",
    "TLS_index = 0 # for TLS of interest"
   ]
  },
  {
   "cell_type": "code",
   "execution_count": 2,
   "id": "c054fd89",
   "metadata": {},
   "outputs": [],
   "source": [
    "Experiment = ExperimentHandle()\n",
    "Analysis = AnalysisHandle(\"quam_state_q1.json\")\n",
    "machine = Analysis.get_machine()"
   ]
  },
  {
   "cell_type": "code",
   "execution_count": 3,
   "id": "a5655a11",
   "metadata": {},
   "outputs": [],
   "source": [
    "client = Labber.connectToServer('localhost')  # get list of instruments"
   ]
  },
  {
   "cell_type": "code",
   "execution_count": 4,
   "id": "b6807c01",
   "metadata": {},
   "outputs": [],
   "source": [
    "QDevil = client.connectToInstrument('QDevil QDAC', dict(interface='Serial', address='3'))"
   ]
  },
  {
   "cell_type": "code",
   "execution_count": 5,
   "id": "3170f32c",
   "metadata": {},
   "outputs": [],
   "source": [
    "QDevil_config = QDevil.getInstrConfig()"
   ]
  },
  {
   "cell_type": "code",
   "execution_count": 6,
   "id": "8658ae17",
   "metadata": {},
   "outputs": [
    {
     "name": "stdout",
     "output_type": "stream",
     "text": [
      "CH01 Voltage\n",
      "CH02 Voltage\n",
      "CH03 Voltage\n",
      "CH04 Voltage\n",
      "CH05 Voltage\n",
      "CH06 Voltage\n",
      "CH07 Voltage\n",
      "CH08 Voltage\n",
      "CH09 Voltage\n",
      "CH10 Voltage\n",
      "CH11 Voltage\n",
      "CH12 Voltage\n",
      "CH13 Voltage\n",
      "CH14 Voltage\n",
      "CH15 Voltage\n",
      "CH16 Voltage\n",
      "CH17 Voltage\n",
      "CH18 Voltage\n",
      "CH19 Voltage\n",
      "CH20 Voltage\n",
      "CH21 Voltage\n",
      "CH22 Voltage\n",
      "CH23 Voltage\n",
      "CH24 Voltage\n",
      "CH01 Current\n",
      "CH02 Current\n",
      "CH03 Current\n",
      "CH04 Current\n",
      "CH05 Current\n",
      "CH06 Current\n",
      "CH07 Current\n",
      "CH08 Current\n",
      "CH09 Current\n",
      "CH10 Current\n",
      "CH11 Current\n",
      "CH12 Current\n",
      "CH13 Current\n",
      "CH14 Current\n",
      "CH15 Current\n",
      "CH16 Current\n",
      "CH17 Current\n",
      "CH18 Current\n",
      "CH19 Current\n",
      "CH20 Current\n",
      "CH21 Current\n",
      "CH22 Current\n",
      "CH23 Current\n",
      "CH24 Current\n",
      "CH01 Voltage-Range\n",
      "CH02 Voltage-Range\n",
      "CH03 Voltage-Range\n",
      "CH04 Voltage-Range\n",
      "CH05 Voltage-Range\n",
      "CH06 Voltage-Range\n",
      "CH07 Voltage-Range\n",
      "CH08 Voltage-Range\n",
      "CH09 Voltage-Range\n",
      "CH10 Voltage-Range\n",
      "CH11 Voltage-Range\n",
      "CH12 Voltage-Range\n",
      "CH13 Voltage-Range\n",
      "CH14 Voltage-Range\n",
      "CH15 Voltage-Range\n",
      "CH16 Voltage-Range\n",
      "CH17 Voltage-Range\n",
      "CH18 Voltage-Range\n",
      "CH19 Voltage-Range\n",
      "CH20 Voltage-Range\n",
      "CH21 Voltage-Range\n",
      "CH22 Voltage-Range\n",
      "CH23 Voltage-Range\n",
      "CH24 Voltage-Range\n",
      "CH01 Current-Range\n",
      "CH02 Current-Range\n",
      "CH03 Current-Range\n",
      "CH04 Current-Range\n",
      "CH05 Current-Range\n",
      "CH06 Current-Range\n",
      "CH07 Current-Range\n",
      "CH08 Current-Range\n",
      "CH09 Current-Range\n",
      "CH10 Current-Range\n",
      "CH11 Current-Range\n",
      "CH12 Current-Range\n",
      "CH13 Current-Range\n",
      "CH14 Current-Range\n",
      "CH15 Current-Range\n",
      "CH16 Current-Range\n",
      "CH17 Current-Range\n",
      "CH18 Current-Range\n",
      "CH19 Current-Range\n",
      "CH20 Current-Range\n",
      "CH21 Current-Range\n",
      "CH22 Current-Range\n",
      "CH23 Current-Range\n",
      "CH24 Current-Range\n",
      "CH01 Mode\n",
      "CH02 Mode\n",
      "CH03 Mode\n",
      "CH04 Mode\n",
      "CH05 Mode\n",
      "CH06 Mode\n",
      "CH07 Mode\n",
      "CH08 Mode\n",
      "CH09 Mode\n",
      "CH10 Mode\n",
      "CH11 Mode\n",
      "CH12 Mode\n",
      "CH13 Mode\n",
      "CH14 Mode\n",
      "CH15 Mode\n",
      "CH16 Mode\n",
      "CH17 Mode\n",
      "CH18 Mode\n",
      "CH19 Mode\n",
      "CH20 Mode\n",
      "CH21 Mode\n",
      "CH22 Mode\n",
      "CH23 Mode\n",
      "CH24 Mode\n",
      "CH01 Apply\n",
      "CH02 Apply\n",
      "CH03 Apply\n",
      "CH04 Apply\n",
      "CH05 Apply\n",
      "CH06 Apply\n",
      "CH07 Apply\n",
      "CH08 Apply\n",
      "CH09 Apply\n",
      "CH10 Apply\n",
      "CH11 Apply\n",
      "CH12 Apply\n",
      "CH13 Apply\n",
      "CH14 Apply\n",
      "CH15 Apply\n",
      "CH16 Apply\n",
      "CH17 Apply\n",
      "CH18 Apply\n",
      "CH19 Apply\n",
      "CH20 Apply\n",
      "CH21 Apply\n",
      "CH22 Apply\n",
      "CH23 Apply\n",
      "CH24 Apply\n",
      "G1 Waveform\n",
      "G1 Period\n",
      "G1 Repetitions\n",
      "G1 Trigger\n",
      "G1 Run-Wait\n",
      "G2 Waveform\n",
      "G2 Period\n",
      "G2 Repetitions\n",
      "G2 Trigger\n",
      "G2 Run-Wait\n",
      "G3 Waveform\n",
      "G3 Period\n",
      "G3 Repetitions\n",
      "G3 Trigger\n",
      "G3 Run-Wait\n",
      "G4 Waveform\n",
      "G4 Period\n",
      "G4 Repetitions\n",
      "G4 Trigger\n",
      "G4 Run-Wait\n",
      "G5 Waveform\n",
      "G5 Period\n",
      "G5 Repetitions\n",
      "G5 Trigger\n",
      "G5 Run-Wait\n",
      "G6 Waveform\n",
      "G6 Period\n",
      "G6 Repetitions\n",
      "G6 Trigger\n",
      "G6 Run-Wait\n",
      "G7 Waveform\n",
      "G7 Period\n",
      "G7 Repetitions\n",
      "G7 Trigger\n",
      "G7 Run-Wait\n",
      "G8 Waveform\n",
      "G8 Period\n",
      "G8 Repetitions\n",
      "G8 Trigger\n",
      "G8 Run-Wait\n",
      "G9 File\n",
      "G9 Repetitions\n",
      "G9 Signal\n",
      "G9 Trigger\n",
      "G9 Run-Wait\n",
      "G10 Repetitions\n",
      "G10 LowTime\n",
      "G10 HighTime\n",
      "G10 LowLevel\n",
      "G10 HighLevel\n",
      "G10 Trigger\n",
      "G10 Run-Wait\n",
      "Syn1 Source\n",
      "Syn1 Length\n",
      "Syn1 Delay\n",
      "Syn2 Source\n",
      "Syn2 Length\n",
      "Syn2 Delay\n",
      "T1 Fire\n",
      "T2 Fire\n",
      "T3 Fire\n",
      "T4 Fire\n",
      "T5 Fire\n",
      "T6 Fire\n",
      "T7 Fire\n",
      "T8 Fire\n",
      "T9 Fire\n",
      "T10 Fire\n"
     ]
    }
   ],
   "source": [
    "for keys in QDevil_config:\n",
    "    print(keys)"
   ]
  },
  {
   "cell_type": "code",
   "execution_count": 7,
   "id": "23238326",
   "metadata": {},
   "outputs": [
    {
     "data": {
      "text/plain": [
       "7e-06"
      ]
     },
     "execution_count": 7,
     "metadata": {},
     "output_type": "execute_result"
    }
   ],
   "source": [
    "(QDevil_config[\"CH01 Voltage\"])"
   ]
  },
  {
   "cell_type": "code",
   "execution_count": 8,
   "id": "6c868e72",
   "metadata": {},
   "outputs": [
    {
     "data": {
      "text/plain": [
       "7e-06"
      ]
     },
     "execution_count": 8,
     "metadata": {},
     "output_type": "execute_result"
    }
   ],
   "source": [
    "QDevil.getValue(\"CH01 Voltage\")"
   ]
  },
  {
   "cell_type": "code",
   "execution_count": 9,
   "id": "3415471b",
   "metadata": {},
   "outputs": [
    {
     "name": "stdout",
     "output_type": "stream",
     "text": [
      "7e-06\n",
      "-0.500731\n",
      "-7e-06\n",
      "-2e-06\n",
      "5e-06\n",
      "6e-06\n",
      "-5e-06\n",
      "-4e-06\n",
      "-4e-06\n",
      "8e-06\n",
      "-1e-06\n",
      "-8e-06\n",
      "-0.0\n",
      "-2e-06\n",
      "-9e-06\n",
      "1e-06\n",
      "-1e-06\n",
      "6e-06\n",
      "-9e-06\n",
      "1e-06\n",
      "-2e-06\n",
      "1e-06\n",
      "-7e-06\n",
      "-6e-06\n"
     ]
    }
   ],
   "source": [
    "for n in range(24):\n",
    "    if n + 1 < 10:\n",
    "        print(QDevil.getValue(\"CH0\" + str(n + 1) + \" Voltage\"))\n",
    "    else:\n",
    "        print(QDevil.getValue(\"CH\" + str(n + 1) + \" Voltage\"))\n",
    "client.close()"
   ]
  },
  {
   "cell_type": "code",
   "execution_count": 10,
   "id": "e08af441",
   "metadata": {},
   "outputs": [
    {
     "ename": "NameError",
     "evalue": "name 'n_avg' is not defined",
     "output_type": "error",
     "traceback": [
      "\u001b[1;31m---------------------------------------------------------------------------\u001b[0m",
      "\u001b[1;31mNameError\u001b[0m                                 Traceback (most recent call last)",
      "Cell \u001b[1;32mIn[10], line 5\u001b[0m\n\u001b[0;32m      2\u001b[0m [I, Q, n, I_st, Q_st, n_st] \u001b[38;5;241m=\u001b[39m declare_vars()\n\u001b[0;32m      3\u001b[0m t \u001b[38;5;241m=\u001b[39m declare(\u001b[38;5;28mint\u001b[39m)\n\u001b[1;32m----> 5\u001b[0m \u001b[38;5;28;01mwith\u001b[39;00m for_(n, \u001b[38;5;241m0\u001b[39m, n \u001b[38;5;241m<\u001b[39m \u001b[43mn_avg\u001b[49m, n \u001b[38;5;241m+\u001b[39m \u001b[38;5;241m1\u001b[39m):\n\u001b[0;32m      6\u001b[0m     \u001b[38;5;28;01mwith\u001b[39;00m for_(\u001b[38;5;241m*\u001b[39mfrom_array(t, rabi_duration_sweep)):\n\u001b[0;32m      7\u001b[0m         update_frequency(machine\u001b[38;5;241m.\u001b[39mqubits[qubit_index]\u001b[38;5;241m.\u001b[39mname, qubit_if)\n",
      "\u001b[1;31mNameError\u001b[0m: name 'n_avg' is not defined"
     ]
    }
   ],
   "source": [
    "with program() as time_rabi:\n",
    "    [I, Q, n, I_st, Q_st, n_st] = declare_vars()\n",
    "    t = declare(int)\n",
    "\n",
    "    with for_(n, 0, n < n_avg, n + 1):\n",
    "        with for_(*from_array(t, rabi_duration_sweep)):\n",
    "            update_frequency(machine.qubits[qubit_index].name, qubit_if)\n",
    "            play(\"const\" * amp(ff_amp), machine.flux_lines[qubit_index].name, duration=t+10)\n",
    "            wait(5, machine.qubits[qubit_index].name)\n",
    "            play(\"pi\" * amp(pi_amp_rel), machine.qubits[qubit_index].name, duration=t)\n",
    "            wait(5, machine.qubits[qubit_index].name)\n",
    "            align(machine.qubits[qubit_index].name, machine.flux_lines[qubit_index].name,\n",
    "                  machine.resonators[qubit_index].name)\n",
    "            readout_avg_macro(machine.resonators[qubit_index].name,I,Q)\n",
    "            align()\n",
    "            # eliminate charge accumulation\n",
    "            play(\"const\" * amp(-1 * ff_amp), machine.flux_lines[qubit_index].name, duration=t+10)\n",
    "            wait(cd_time * u.ns, machine.resonators[qubit_index].name)\n",
    "            save(I, I_st)\n",
    "            save(Q, Q_st)\n",
    "        save(n, n_st)\n",
    "\n",
    "    with stream_processing():\n",
    "        I_st.buffer(len(rabi_duration_sweep)).average().save(\"I\")\n",
    "        Q_st.buffer(len(rabi_duration_sweep)).average().save(\"Q\")\n",
    "        n_st.save(\"iteration\")"
   ]
  },
  {
   "cell_type": "code",
   "execution_count": null,
   "id": "85aef53a",
   "metadata": {},
   "outputs": [],
   "source": []
  }
 ],
 "metadata": {
  "kernelspec": {
   "display_name": "Python 3 (ipykernel)",
   "language": "python",
   "name": "python3"
  },
  "language_info": {
   "codemirror_mode": {
    "name": "ipython",
    "version": 3
   },
   "file_extension": ".py",
   "mimetype": "text/x-python",
   "name": "python",
   "nbconvert_exporter": "python",
   "pygments_lexer": "ipython3",
   "version": "3.9.19"
  }
 },
 "nbformat": 4,
 "nbformat_minor": 5
}
