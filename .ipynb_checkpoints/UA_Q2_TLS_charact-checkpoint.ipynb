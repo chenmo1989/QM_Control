{
 "cells": [
  {
   "cell_type": "markdown",
   "id": "49d22572",
   "metadata": {},
   "source": [
    "# TLS Characterization of UA Q2\n",
    "### using Experiment and Analysis classes"
   ]
  },
  {
   "cell_type": "code",
   "execution_count": 1,
   "id": "b08c4dec",
   "metadata": {
    "scrolled": true
   },
   "outputs": [
    {
     "name": "stdout",
     "output_type": "stream",
     "text": [
      "2024-05-20 17:14:08,729 - qm - INFO     - Starting session: 9f9c501b-e0d1-49f1-9198-3d94f71c0e2d\n"
     ]
    }
   ],
   "source": [
    "from qm.qua import *\n",
    "from qm import QuantumMachinesManager, SimulationConfig, LoopbackInterface, generate_qua_script\n",
    "from qm.octave import *\n",
    "from configuration import *\n",
    "from scipy import signal\n",
    "from qualang_tools.bakery import baking\n",
    "from qm.octave import QmOctaveConfig\n",
    "from quam import QuAM\n",
    "\n",
    "from scipy.optimize import curve_fit\n",
    "from scipy.signal import savgol_filter\n",
    "#from qutip import *\n",
    "from typing import Union\n",
    "from macros import *\n",
    "import datetime \n",
    "import os\n",
    "import time\n",
    "import warnings\n",
    "import json\n",
    "import matplotlib.pyplot as plt\n",
    "import numpy as np\n",
    "import Labber\n",
    "import xarray as xr\n",
    "\n",
    "from ExperimentClass import ExperimentHandle\n",
    "from AnalysisClass import AnalysisHandle\n",
    "\n",
    "warnings.filterwarnings(\"ignore\")\n",
    "\n",
    "qubit_index = 0 # for UA Q2\n",
    "TLS_index = 1 # for TLS of interest\n",
    "dc_flux_index = 1 # for dc line"
   ]
  },
  {
   "cell_type": "code",
   "execution_count": 2,
   "id": "44475f4c",
   "metadata": {},
   "outputs": [],
   "source": [
    "Analysis = AnalysisHandle(\"quam_state_q1.json\")\n",
    "machine = Analysis.get_machine()\n",
    "Experiment = ExperimentHandle(machine)"
   ]
  },
  {
   "cell_type": "code",
   "execution_count": null,
   "id": "76f18494",
   "metadata": {},
   "outputs": [],
   "source": [
    "# initialize Labber-controlled hardware\n",
    "# get values from QDAC first\n",
    "#machine = Experiment.set_Labber.get_value_from_QDAC(machine)\n",
    "# set all Labber settings\n",
    "machine = Experiment.set_Labber.set_Labber(machine, qubit_index)\n",
    "# set octave to external clock\n",
    "Experiment.set_octave.set_clock(machine)"
   ]
  },
  {
   "cell_type": "code",
   "execution_count": 5,
   "id": "ee1d163a-1c4e-47cf-9fd0-a02ccf172c82",
   "metadata": {},
   "outputs": [
    {
     "name": "stdout",
     "output_type": "stream",
     "text": [
      "------------------------------------- Octave calibration starts...\n",
      "------------------------------------- Calibrates q1 for (LO, IF) = (6.250 GHz, -50.000 MHz)\n",
      "------------------------------------- Calibrates r1 for (LO, IF) = (7.183 GHz, -50.000 MHz)\n",
      "------------------------------------- Octave calibration finished.\n"
     ]
    }
   ],
   "source": [
    "# set for the qubit\n",
    "machine.octaves[0].LO_sources[1].LO_frequency = machine.qubits[qubit_index].f_01 + 50e6\n",
    "machine = Analysis.set_machine(machine)\n",
    "# octave calibration\n",
    "machine = Experiment.set_octave.calibration(machine, qubit_index)"
   ]
  },
  {
   "cell_type": "markdown",
   "id": "27a943af",
   "metadata": {},
   "source": [
    "# TLS experiments"
   ]
  },
  {
   "cell_type": "markdown",
   "id": "4045c37b",
   "metadata": {},
   "source": [
    "## Set TLS index"
   ]
  },
  {
   "cell_type": "code",
   "execution_count": null,
   "id": "7e758ebc",
   "metadata": {},
   "outputs": [],
   "source": [
    "TLS_index = 1"
   ]
  },
  {
   "cell_type": "markdown",
   "id": "e16067f7",
   "metadata": {},
   "source": [
    "## TLS T1"
   ]
  },
  {
   "cell_type": "code",
   "execution_count": 6,
   "id": "3c85f9be",
   "metadata": {},
   "outputs": [
    {
     "name": "stdout",
     "output_type": "stream",
     "text": [
      "Execution stopped by user!#######                            ] 44.2% (n=221/500) --> elapsed time: 12.93s\n",
      "----------saved to Z:\\QM_Data_DF5\\2024\\05\\Data_0520\\2024-05-20_q1t1_tls_T1_5500) --> elapsed time: 13.32s\n"
     ]
    }
   ],
   "source": [
    "%matplotlib qt\n",
    "tau_sweep_abs = np.arange(20,3000E3+1,100E3)\n",
    "machine, expt_dataset = Experiment.exp1D.T1.TLS_T1(machine, tau_sweep_abs, qubit_index, TLS_index,\n",
    "                   n_avg = 500, cd_time_qubit = 25E3, cd_time_TLS = 500E3, live_plot = True, data_process_method = 'I')"
   ]
  },
  {
   "cell_type": "code",
   "execution_count": 8,
   "id": "d90ed2c5",
   "metadata": {},
   "outputs": [
    {
     "name": "stdout",
     "output_type": "stream",
     "text": [
      "Qubit T1: 406363.7 [ns]\n"
     ]
    },
    {
     "data": {
      "image/png": "[encoded data removed]",
      "text/plain": [
       "<Figure size 600x300 with 1 Axes>"
      ]
     },
     "metadata": {},
     "output_type": "display_data"
    }
   ],
   "source": [
    "%matplotlib inline\n",
    "TLS_T1 = Analysis.exp1D.T1(expt_dataset, data_process_method = 'I')"
   ]
  },
  {
   "cell_type": "markdown",
   "id": "f56bc3e8",
   "metadata": {},
   "source": [
    "# TLS drive"
   ]
  },
  {
   "cell_type": "markdown",
   "id": "3f619835",
   "metadata": {},
   "source": [
    "## TLS spectroscopy"
   ]
  },
  {
   "cell_type": "code",
   "execution_count": 9,
   "id": "1b01b7ee-623e-461b-adb8-e9b1339853fb",
   "metadata": {},
   "outputs": [
    {
     "name": "stdout",
     "output_type": "stream",
     "text": [
      "TLS if range > 400MHz. Setting the octave freq. Will calibrate octave.\n",
      "------------------------------------- Octave calibration starts...\n",
      "------------------------------------- Calibrates q1 for (LO, IF) = (5.353 GHz,  50.000 MHz)\n",
      "------------------------------------- Octave calibration finished.\n",
      "Progress: [##################################################] 100.0% (n=1000/1000.0) --> elapsed time: 52.92s\n",
      "Progress: [##################################################] 100.0% (n=1000/1000.0) --> elapsed time: 53.48s\n",
      "----------saved to Z:\\QM_Data_DF5\\2024\\05\\Data_0520\\2024-05-20_q1t1_tls_spec_3\n"
     ]
    }
   ],
   "source": [
    "%matplotlib qt\n",
    "TLS_freq_sweep = machine.qubits[qubit_index].f_tls[TLS_index] + np.arange(-15E6,15E6+1,0.3E6)\n",
    "machine, expt_dataset = Experiment.exp1D.Rabi.TLS_freq(machine, TLS_freq_sweep, qubit_index, TLS_index,\n",
    "                  n_avg = 1E3, cd_time_qubit = 25E3, cd_time_TLS = 500E3, live_plot = True, calibrate_octave = False)"
   ]
  },
  {
   "cell_type": "code",
   "execution_count": 12,
   "id": "80b31e21-492a-464e-b1d2-5bd3914b74c2",
   "metadata": {},
   "outputs": [
    {
     "name": "stdout",
     "output_type": "stream",
     "text": [
      "peak frequency:  5402.9 [MHz]\n"
     ]
    },
    {
     "data": {
      "image/png": "[encoded data removed]",
      "text/plain": [
       "<Figure size 600x300 with 1 Axes>"
      ]
     },
     "metadata": {},
     "output_type": "display_data"
    }
   ],
   "source": [
    "%matplotlib inline\n",
    "TLS_freq = Analysis.exp1D.peak_fit(expt_dataset, method = \"Gaussian\", data_process_method = 'I')\n",
    "machine.qubits[qubit_index].f_tls[TLS_index] = TLS_freq + 0E6\n",
    "machine = Analysis.set_machine(machine)"
   ]
  },
  {
   "cell_type": "markdown",
   "id": "8dea7ec4",
   "metadata": {},
   "source": [
    "## TLS rabi"
   ]
  },
  {
   "cell_type": "code",
   "execution_count": null,
   "id": "02a94f9f-c72b-43df-b627-b779ccfb1c17",
   "metadata": {},
   "outputs": [],
   "source": [
    "%matplotlib qt\n",
    "rabi_duration_sweep = np.arange(16, 8000 + 0.1, 80)  # in units of clock cyles\n",
    "machine, expt_dataset = Experiment.exp1D.Rabi.TLS_rabi_length(machine, rabi_duration_sweep, qubit_index, TLS_index,\n",
    "                      n_avg = 1E3, cd_time_qubit = 25E3, cd_time_TLS = 500E3, live_plot = True, calibrate_octave = False)"
   ]
  },
  {
   "cell_type": "code",
   "execution_count": null,
   "id": "7c9d3272-6e7e-4769-810c-998b3f9748e0",
   "metadata": {},
   "outputs": [],
   "source": [
    "%matplotlib inline\n",
    "pi_pulse_length = Analysis.exp1D.rabi_length(expt_dataset, method = \"Decay\", to_plot = True, data_process_method = 'I')"
   ]
  },
  {
   "cell_type": "code",
   "execution_count": null,
   "id": "90c3c688-b1d8-434b-81fe-da371fc08700",
   "metadata": {},
   "outputs": [],
   "source": [
    "machine.qubits[qubit_index].pi_amp_tls[TLS_index] = 0.4677\n",
    "machine.qubits[qubit_index].pi_length_tls[TLS_index] = 340\n",
    "machine = Analysis.set_machine(machine)"
   ]
  },
  {
   "cell_type": "markdown",
   "id": "d52a556f",
   "metadata": {},
   "source": [
    "## TLS Ramsey"
   ]
  },
  {
   "cell_type": "code",
   "execution_count": null,
   "id": "48331441",
   "metadata": {},
   "outputs": [],
   "source": [
    "%matplotlib qt\n",
    "ramsey_duration_sweep = np.arange(4, 700 + 0.1, 2)  # in units of clock cyles\n",
    "machine, ramsey_duration_sweep, sig_I = Experiment.exp1D.Ramsey.TLS_ramsey(ramsey_duration_sweep, qubit_index, res_index, flux_index, TLS_index,\n",
    "          n_avg = 5E3, detuning = 5E6, cd_time_qubit = 20E3, cd_time_TLS = 2000E3, to_plot = True, simulate_flag = False, simulation_len = 20_000, machine = machine)"
   ]
  },
  {
   "cell_type": "code",
   "execution_count": null,
   "id": "ea8dfaae",
   "metadata": {},
   "outputs": [],
   "source": [
    "%matplotlib inline\n",
    "q_T2star = Analysis.exp1D.ramsey(ramsey_duration_sweep, sig_I,to_plot = True)"
   ]
  },
  {
   "cell_type": "markdown",
   "id": "ef100262",
   "metadata": {},
   "source": [
    "## TLS T1 with direct driving"
   ]
  },
  {
   "cell_type": "code",
   "execution_count": null,
   "id": "1430ab5e",
   "metadata": {},
   "outputs": [],
   "source": [
    "%matplotlib qt\n",
    "tau_sweep_abs = np.arange(1E3,5000E3+1,100E3)\n",
    "machine, tau_sweep_abs, sig_I = Experiment.exp1D.T1.TLS_T1_driving(tau_sweep_abs, qubit_index, res_index, flux_index, TLS_index,\n",
    "                   n_avg = 2E3, cd_time_qubit = 20E3, cd_time_TLS = 5000E3, simulate_flag = False, simulation_len = 15_000, to_plot = True)"
   ]
  },
  {
   "cell_type": "code",
   "execution_count": null,
   "id": "61646efa",
   "metadata": {},
   "outputs": [],
   "source": [
    "%matplotlib inline\n",
    "TLS_T1 = Analysis.exp1D.T1(tau_sweep_abs,sig_I,method = \"exp\")"
   ]
  },
  {
   "cell_type": "markdown",
   "id": "62a2cd6e",
   "metadata": {},
   "source": [
    "# TLS Dynamical Decoupling"
   ]
  },
  {
   "cell_type": "markdown",
   "id": "86ea1e82",
   "metadata": {},
   "source": [
    "## TLS echo"
   ]
  },
  {
   "cell_type": "code",
   "execution_count": null,
   "id": "43c4ac57",
   "metadata": {},
   "outputs": [],
   "source": [
    "%matplotlib qt\n",
    "tau_sweep = np.arange(4, 4E3 + 0.1, 10)  # in units of clock cyles\n",
    "machine, tau_sweep_abs, sig_I = Experiment.exp1D.DD.TLS_echo(tau_sweep, qubit_index, res_index, flux_index, TLS_index,\n",
    "          n_avg = 2E3, cd_time_qubit = 20E3, cd_time_TLS = 5000E3, to_plot = True, simulate_flag = False, simulation_len = 20_000, machine = machine)"
   ]
  },
  {
   "cell_type": "code",
   "execution_count": null,
   "id": "776029b2",
   "metadata": {},
   "outputs": [],
   "source": [
    "%matplotlib inline\n",
    "TLS_T2e = Analysis.exp1D.T1(tau_sweep_abs*2,sig_I,method = \"exp\")"
   ]
  },
  {
   "cell_type": "markdown",
   "id": "5fe4db22",
   "metadata": {},
   "source": [
    "## TLS CPMG2"
   ]
  },
  {
   "cell_type": "code",
   "execution_count": null,
   "id": "878b62ea",
   "metadata": {},
   "outputs": [],
   "source": [
    "%matplotlib qt\n",
    "tau_sweep = np.arange(4, 1000 + 0.1, 4)  # in units of clock cyles\n",
    "machine, tau_sweep_abs, sig_I = Experiment.exp1D.DD.TLS_CPMG(tau_sweep, qubit_index, res_index, flux_index, TLS_index,\n",
    "          N_CPMG = 2, n_avg = 2E3, cd_time_qubit = 20E3, cd_time_TLS = 2000E3, to_plot = True, simulate_flag = False, simulation_len = 20_000, machine = machine)"
   ]
  },
  {
   "cell_type": "markdown",
   "id": "d32645f2",
   "metadata": {},
   "source": [
    "## TLS CPMG4"
   ]
  },
  {
   "cell_type": "code",
   "execution_count": null,
   "id": "74eef9a3",
   "metadata": {},
   "outputs": [],
   "source": [
    "%matplotlib qt\n",
    "tau_sweep = np.arange(4, 2000 + 0.1, 1)  # in units of clock cyles\n",
    "machine, tau_sweep_abs, sig_I = Experiment.exp1D.DD.TLS_CPMG(tau_sweep, qubit_index, res_index, flux_index, TLS_index,\n",
    "          N_CPMG = 4, n_avg = 2E3, cd_time_qubit = 20E3, cd_time_TLS = 5000E3, to_plot = False, simulate_flag = False, simulation_len = 20_000, machine = machine)"
   ]
  },
  {
   "cell_type": "markdown",
   "id": "a3fac939",
   "metadata": {},
   "source": [
    "## TLS CPMG6"
   ]
  },
  {
   "cell_type": "code",
   "execution_count": null,
   "id": "75a4353f",
   "metadata": {},
   "outputs": [],
   "source": [
    "%matplotlib qt\n",
    "tau_sweep = np.arange(4, 300 + 0.1, 1)  # in units of clock cyles\n",
    "machine, tau_sweep_abs, sig_I = Experiment.exp1D.DD.TLS_CPMG(tau_sweep, qubit_index, res_index, flux_index, TLS_index,\n",
    "          N_CPMG = 6, n_avg = 2E3, cd_time_qubit = 20E3, cd_time_TLS = 2000E3, to_plot = True, simulate_flag = False, simulation_len = 20_000, machine = machine)"
   ]
  },
  {
   "cell_type": "markdown",
   "id": "649233ab",
   "metadata": {},
   "source": [
    "## TLS CPMG8"
   ]
  },
  {
   "cell_type": "code",
   "execution_count": null,
   "id": "2aa0a9da",
   "metadata": {},
   "outputs": [],
   "source": [
    "%matplotlib qt\n",
    "tau_sweep = np.arange(4, 300 + 0.1, 1)  # in units of clock cyles\n",
    "machine, tau_sweep_abs, sig_I = Experiment.exp1D.DD.TLS_CPMG(tau_sweep, qubit_index, res_index, flux_index, TLS_index,\n",
    "          N_CPMG = 8, n_avg = 2E3, cd_time_qubit = 20E3, cd_time_TLS = 5000E3, to_plot = False, simulate_flag = False, simulation_len = 20_000, machine = machine)"
   ]
  },
  {
   "cell_type": "markdown",
   "id": "9dbf9931",
   "metadata": {},
   "source": [
    "## TLS CPMG12"
   ]
  },
  {
   "cell_type": "code",
   "execution_count": null,
   "id": "21061467",
   "metadata": {},
   "outputs": [],
   "source": [
    "%matplotlib qt\n",
    "tau_sweep = np.arange(4, 2000 + 0.1, 1)  # in units of clock cyles\n",
    "machine, tau_sweep_abs, sig_I = Experiment.exp1D.DD.TLS_CPMG(tau_sweep, qubit_index, res_index, flux_index, TLS_index,\n",
    "          N_CPMG = 12, n_avg = 2E3, cd_time_qubit = 20E3, cd_time_TLS = 5000E3, to_plot = False, simulate_flag = False, simulation_len = 20_000, machine = machine)"
   ]
  },
  {
   "cell_type": "markdown",
   "id": "c5c90f44",
   "metadata": {},
   "source": [
    "## TLS CPMG16"
   ]
  },
  {
   "cell_type": "code",
   "execution_count": null,
   "id": "36812422",
   "metadata": {},
   "outputs": [],
   "source": [
    "%matplotlib qt\n",
    "tau_sweep = np.arange(4, 2000 + 0.1, 1)  # in units of clock cyles\n",
    "machine, tau_sweep_abs, sig_I = Experiment.exp1D.DD.TLS_CPMG(tau_sweep, qubit_index, res_index, flux_index, TLS_index,\n",
    "          N_CPMG = 16, n_avg = 2E3, cd_time_qubit = 20E3, cd_time_TLS = 5000E3, to_plot = False, simulate_flag = False, simulation_len = 20_000, machine = machine)"
   ]
  },
  {
   "cell_type": "markdown",
   "id": "c026d3b6",
   "metadata": {},
   "source": [
    "## TLS CPMG20"
   ]
  },
  {
   "cell_type": "code",
   "execution_count": null,
   "id": "c6dbfb37",
   "metadata": {},
   "outputs": [],
   "source": [
    "%matplotlib qt\n",
    "tau_sweep = np.arange(4, 800 + 0.1, 1)  # in units of clock cyles\n",
    "machine, tau_sweep_abs, sig_I = Experiment.exp1D.DD.TLS_CPMG(tau_sweep, qubit_index, res_index, flux_index, TLS_index,\n",
    "          N_CPMG = 20, n_avg = 4E3, cd_time_qubit = 20E3, cd_time_TLS = 400E3, to_plot = False, simulate_flag = False, simulation_len = 20_000, machine = machine)"
   ]
  },
  {
   "cell_type": "markdown",
   "id": "1b522b72",
   "metadata": {},
   "source": [
    "## TLS CPMG24"
   ]
  },
  {
   "cell_type": "code",
   "execution_count": null,
   "id": "e365f61d",
   "metadata": {},
   "outputs": [],
   "source": [
    "%matplotlib qt\n",
    "tau_sweep = np.arange(4, 800 + 0.1, 1)  # in units of clock cyles\n",
    "machine, tau_sweep_abs, sig_I = Experiment.exp1D.DD.TLS_CPMG(tau_sweep, qubit_index, res_index, flux_index, TLS_index,\n",
    "          N_CPMG = 24, n_avg = 4E3, cd_time_qubit = 20E3, cd_time_TLS = 400E3, to_plot = False, simulate_flag = False, simulation_len = 20_000, machine = machine)"
   ]
  },
  {
   "cell_type": "markdown",
   "id": "41a4e2df",
   "metadata": {},
   "source": [
    "## TLS CPMG28"
   ]
  },
  {
   "cell_type": "code",
   "execution_count": null,
   "id": "a9042317",
   "metadata": {},
   "outputs": [],
   "source": [
    "%matplotlib qt\n",
    "tau_sweep = np.arange(4, 800 + 0.1, 1)  # in units of clock cyles\n",
    "machine, tau_sweep_abs, sig_I = Experiment.exp1D.DD.TLS_CPMG(tau_sweep, qubit_index, res_index, flux_index, TLS_index,\n",
    "          N_CPMG = 28, n_avg = 4E3, cd_time_qubit = 20E3, cd_time_TLS = 400E3, to_plot = False, simulate_flag = False, simulation_len = 20_000, machine = machine)"
   ]
  },
  {
   "cell_type": "markdown",
   "id": "80a47cb6",
   "metadata": {},
   "source": [
    "## TLS CPMG32"
   ]
  },
  {
   "cell_type": "code",
   "execution_count": null,
   "id": "a2f9d89b",
   "metadata": {},
   "outputs": [],
   "source": [
    "%matplotlib qt\n",
    "tau_sweep = np.arange(4, 800 + 0.1, 1)  # in units of clock cyles\n",
    "machine, tau_sweep_abs, sig_I = Experiment.exp1D.DD.TLS_CPMG(tau_sweep, qubit_index, res_index, flux_index, TLS_index,\n",
    "          N_CPMG = 32, n_avg = 4E3, cd_time_qubit = 20E3, cd_time_TLS = 400E3, to_plot = False, simulate_flag = False, simulation_len = 20_000, machine = machine)"
   ]
  }
 ],
 "metadata": {
  "kernelspec": {
   "display_name": "Python 3 (ipykernel)",
   "language": "python",
   "name": "python3"
  },
  "language_info": {
   "codemirror_mode": {
    "name": "ipython",
    "version": 3
   },
   "file_extension": ".py",
   "mimetype": "text/x-python",
   "name": "python",
   "nbconvert_exporter": "python",
   "pygments_lexer": "ipython3",
   "version": "3.9.19"
  }
 },
 "nbformat": 4,
 "nbformat_minor": 5
}
