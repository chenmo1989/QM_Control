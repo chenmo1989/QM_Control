{
 "cells": [
  {
   "cell_type": "markdown",
   "id": "49d22572",
   "metadata": {},
   "source": [
    "# Basic characterizations of UA Q2\n",
    "### using Experiment and Analysis classes"
   ]
  },
  {
   "cell_type": "code",
   "execution_count": 1,
   "id": "b08c4dec",
   "metadata": {
    "scrolled": true
   },
   "outputs": [
    {
     "name": "stdout",
     "output_type": "stream",
     "text": [
      "2024-05-12 17:53:31,692 - qm - INFO     - Starting session: 48f87e58-faef-44a0-b4f6-75b0b22a0254\n"
     ]
    }
   ],
   "source": [
    "from qm.qua import *\n",
    "from qm import QuantumMachinesManager, SimulationConfig, LoopbackInterface, generate_qua_script\n",
    "from qm.octave import *\n",
    "from configuration import *\n",
    "from scipy import signal\n",
    "from qualang_tools.bakery import baking\n",
    "from qm.octave import QmOctaveConfig\n",
    "from quam import QuAM\n",
    "from scipy.io import savemat, loadmat\n",
    "from scipy.optimize import curve_fit\n",
    "from scipy.signal import savgol_filter\n",
    "#from qutip import *\n",
    "from typing import Union\n",
    "from macros import *\n",
    "import datetime \n",
    "import os\n",
    "import time\n",
    "import warnings\n",
    "import json\n",
    "import matplotlib.pyplot as plt\n",
    "import numpy as np\n",
    "import Labber\n",
    "import xarray as xr\n",
    "\n",
    "from ExperimentClass import ExperimentHandle\n",
    "from AnalysisClass import AnalysisHandle\n",
    "\n",
    "warnings.filterwarnings(\"ignore\")\n",
    "\n",
    "qubit_index = 0 # for UA Q2\n",
    "TLS_index = 0 # for TLS of interest\n",
    "dc_flux_index = 1 # for dc line"
   ]
  },
  {
   "cell_type": "code",
   "execution_count": 2,
   "id": "44475f4c",
   "metadata": {},
   "outputs": [],
   "source": [
    "Experiment = ExperimentHandle()\n",
    "Analysis = AnalysisHandle(\"quam_state_q1.json\")\n",
    "machine = Analysis.get_machine()"
   ]
  },
  {
   "cell_type": "code",
   "execution_count": null,
   "id": "76f18494",
   "metadata": {},
   "outputs": [],
   "source": [
    "# initialize Labber-controlled hardware\n",
    "# get values from QDAC first\n",
    "machine = Experiment.set_Labber.get_value_from_QDAC(machine)\n",
    "# set all Labber settings\n",
    "machine = Experiment.set_Labber.set_Labber(machine, qubit_index)\n",
    "# set octave to external clock\n",
    "Experiment.set_octave.set_clock(machine)"
   ]
  },
  {
   "cell_type": "code",
   "execution_count": null,
   "id": "56473371",
   "metadata": {},
   "outputs": [],
   "source": [
    "machine.octaves[0].LO_sources[1].LO_frequency = machine.qubits[qubit_index].f_01 + 50e6\n",
    "machine = Analysis.set_machine(machine)"
   ]
  },
  {
   "cell_type": "code",
   "execution_count": null,
   "id": "e1f14759",
   "metadata": {
    "scrolled": true
   },
   "outputs": [],
   "source": [
    "# octave calibration\n",
    "machine = Experiment.set_octave.calibration(machine, qubit_index)"
   ]
  },
  {
   "cell_type": "markdown",
   "id": "bcccaeac-9481-45e1-8bfa-7f4834d2ed2b",
   "metadata": {},
   "source": [
    "## Time of Flight"
   ]
  },
  {
   "cell_type": "code",
   "execution_count": null,
   "id": "9ee6fd99-40a1-4f44-b5b4-a11ff2bc568c",
   "metadata": {},
   "outputs": [],
   "source": [
    "# time_of_flight\n",
    "# experiment\n",
    "machine, expt_dataset = Experiment.exp1D.RR.time_of_flight(machine,qubit_index, n_avg = 10E3, cd_time = 10E3, simulate_flag = False, simulation_len = 1000)\n",
    "# plot\n",
    "%matplotlib inline\n",
    "dc_offset_i, dc_offset_q, delay = Analysis.exp1D.time_of_flight(expt_dataset)"
   ]
  },
  {
   "cell_type": "code",
   "execution_count": null,
   "id": "d333aa1a-8f67-431f-b2db-86b96b043583",
   "metadata": {},
   "outputs": [],
   "source": [
    "# update the offset\n",
    "machine.global_parameters.downconversion_offset_I[0] += dc_offset_i\n",
    "machine.global_parameters.downconversion_offset_Q[0] += dc_offset_q\n",
    "machine.resonators[qubit_index].downconversion_offset_I = machine.global_parameters.downconversion_offset_I[0]\n",
    "machine.resonators[qubit_index].downconversion_offset_Q = machine.global_parameters.downconversion_offset_Q[0]\n",
    "#machine.global_parameters.time_of_flight = 304-0\n",
    "machine = Analysis.set_machine(machine)"
   ]
  },
  {
   "cell_type": "markdown",
   "id": "3738dafc-6231-413a-8eff-385dafda11c0",
   "metadata": {},
   "source": [
    "## Resonator spectroscopy"
   ]
  },
  {
   "cell_type": "code",
   "execution_count": 3,
   "id": "bd8d22b0-fbc8-4c65-b470-a3f40753b906",
   "metadata": {},
   "outputs": [
    {
     "name": "stdout",
     "output_type": "stream",
     "text": [
      "Progress: [##################################################] 100.0% (n=1000/1000.0) --> elapsed time: 2.11s\n",
      "----------saved to Z:\\QM_Data_DF5\\2024\\05\\Data_0512\\2024-05-12_q1_res_spec_13\n"
     ]
    }
   ],
   "source": [
    "%matplotlib qt\n",
    "res_freq_sweep = machine.resonators[qubit_index].f_readout + np.arange(-5E6,5E6 + 1.0,0.05E6)\n",
    "machine, expt_dataset = Experiment.exp1D.RR.rr_freq(machine, res_freq_sweep, qubit_index, n_avg = 1E3, cd_time = 10E3, \n",
    "                                                    readout_state = 'g', simulate_flag = False, simulation_len = 1000)\n",
    "# Readout in excited state\n",
    "# machine, res_freq_sweep, sig_amp = Experiment.exp1D.RR.rr_freq(res_freq_sweep, qubit_index, res_index, flux_index, \n",
    "#                           n_avg = 1E3, cd_time = 5E3, readout_state = 'e', simulate_flag = False, simulation_len = 1000)"
   ]
  },
  {
   "cell_type": "code",
   "execution_count": 6,
   "id": "4a5a6f4e-8b1e-4047-b219-d862db4d17d9",
   "metadata": {},
   "outputs": [
    {
     "name": "stdout",
     "output_type": "stream",
     "text": [
      "resonator frequency: 7134.199 MHz\n"
     ]
    },
    {
     "data": {
      "image/png": "[encoded data removed]",
      "text/plain": [
       "<Figure size 600x300 with 1 Axes>"
      ]
     },
     "metadata": {},
     "output_type": "display_data"
    }
   ],
   "source": [
    "# find the minimal\n",
    "%matplotlib inline\n",
    "res_freq = Analysis.exp1D.rr_freq(expt_dataset)\n",
    "machine.resonators[qubit_index].f_readout = res_freq + 0E6"
   ]
  },
  {
   "cell_type": "code",
   "execution_count": 7,
   "id": "5f25fe84-527d-42d9-80e6-ebe0ffcd8138",
   "metadata": {
    "scrolled": true
   },
   "outputs": [
    {
     "name": "stdout",
     "output_type": "stream",
     "text": [
      "2024-05-12 17:54:06,005 - qm - INFO     - Performing health check\n",
      "2024-05-12 17:54:06,013 - qm - INFO     - Health check passed\n",
      "------------------------------------- Octave calibration starts...\n",
      "------------------------------------- Calibrates q1 for (LO, IF) = (6.250 GHz, -50.000 MHz)\n",
      "2024-05-12 17:54:08,503 - qm - INFO     - Compiling program\n",
      "------------------------------------- Calibrates r1 for (LO, IF) = (7.184 GHz, -50.000 MHz)\n",
      "2024-05-12 17:54:14,719 - qm - INFO     - Compiling program\n",
      "------------------------------------- Octave calibration finished.\n"
     ]
    }
   ],
   "source": [
    "machine.octaves[0].LO_sources[0].LO_frequency = machine.resonators[qubit_index].f_readout + 50E6\n",
    "machine = Experiment.set_octave.calibration(machine, qubit_index)\n",
    "machine = Analysis.set_machine(machine)"
   ]
  },
  {
   "cell_type": "markdown",
   "id": "7512d423",
   "metadata": {},
   "source": [
    "## 1D qubit spectroscopy @ sweep spot"
   ]
  },
  {
   "cell_type": "code",
   "execution_count": null,
   "id": "463e4ef5",
   "metadata": {},
   "outputs": [],
   "source": [
    "if True: # for the DC flux\n",
    "    qubit_freq_est = np.polyval(machine.qubits[qubit_index].DC_tuning_curve,machine.dc_flux[dc_flux_index].max_frequency_point) * 1E6 # in Hz\n",
    "else: # for the fast flux\n",
    "    qubit_freq_est = np.polyval(machine.qubits[qubit_index].AC_tuning_curve,0.0) * 1E6 # in Hz\n",
    "\n",
    "qubit_freq_sweep = int(qubit_freq_est) + np.arange(-70E6, 70E6 + 1, 1E6)\n",
    "    \n",
    "%matplotlib qt\n",
    "machine, expt_dataset = Experiment.exp1D.Rabi.qubit_freq(machine, qubit_freq_sweep, qubit_index, pi_amp_rel = 1.0, \n",
    "                                                         ff_amp = 0.0, n_avg = 1E3, cd_time = 30E3, simulate_flag = False, simulation_len = 1000)"
   ]
  },
  {
   "cell_type": "code",
   "execution_count": null,
   "id": "8f0728e9-80b8-4898-b624-db04a66cf266",
   "metadata": {},
   "outputs": [],
   "source": [
    "%matplotlib inline\n",
    "qubit_freq = Analysis.exp1D.peak_fit(expt_dataset,method=\"Gaussian\")\n",
    "machine.qubits[qubit_index].f_01 = qubit_freq + 0E6"
   ]
  },
  {
   "cell_type": "code",
   "execution_count": null,
   "id": "e6febf4d-e347-4483-b4c8-1e124eee36ae",
   "metadata": {},
   "outputs": [],
   "source": [
    "machine.octaves[0].LO_sources[1].LO_frequency = machine.qubits[qubit_index].f_01 + 50e6\n",
    "machine = Experiment.set_octave.calibration(machine, qubit_index)\n",
    "machine = Analysis.set_machine(machine)"
   ]
  },
  {
   "cell_type": "markdown",
   "id": "7f73ccef",
   "metadata": {},
   "source": [
    "## Rabi"
   ]
  },
  {
   "cell_type": "markdown",
   "id": "8dc4372f",
   "metadata": {},
   "source": [
    "### Time Rabi"
   ]
  },
  {
   "cell_type": "code",
   "execution_count": null,
   "id": "55516ebb",
   "metadata": {
    "scrolled": true
   },
   "outputs": [],
   "source": [
    "%matplotlib qt\n",
    "rabi_duration_sweep = np.arange(16, 240 + 0.1, 1)  # in ns\n",
    "machine, expt_dataset = Experiment.exp1D.Rabi.rabi_length(machine, rabi_duration_sweep, qubit_index, pi_amp_rel = 1.0, to_plot = False, \n",
    "                                                          n_avg = 1E3, cd_time = 10E3, simulate_flag = False, simulation_len = 1000)"
   ]
  },
  {
   "cell_type": "code",
   "execution_count": null,
   "id": "c1830c11",
   "metadata": {
    "scrolled": true
   },
   "outputs": [],
   "source": [
    "%matplotlib inline\n",
    "pi_pulse_length = Analysis.exp1D.rabi_length(expt_dataset, method = \"Sine\", to_plot = True)"
   ]
  },
  {
   "cell_type": "code",
   "execution_count": null,
   "id": "2ab3d637",
   "metadata": {},
   "outputs": [],
   "source": [
    "machine.qubits[qubit_index].pi_length = 100\n",
    "# machine.qubits[qubit_index].pi_amp[0] = 0.0270983\n",
    "machine = Analysis.set_machine(machine)"
   ]
  },
  {
   "cell_type": "markdown",
   "id": "cc52c092",
   "metadata": {},
   "source": [
    "### Power Rabi"
   ]
  },
  {
   "cell_type": "code",
   "execution_count": null,
   "id": "5ae8cbc8",
   "metadata": {},
   "outputs": [],
   "source": [
    "%matplotlib qt\n",
    "rabi_amp_sweep_rel = np.arange(0.1, 2.0, 0.025) \n",
    "machine, expt_dataset = Experiment.exp1D.Rabi.rabi_amp(machine, rabi_amp_sweep_rel, qubit_index, ff_amp = 0.0,\n",
    "                                                       n_avg = 10E3, cd_time = 20E3, to_plot = True)"
   ]
  },
  {
   "cell_type": "code",
   "execution_count": null,
   "id": "7b1e55c4",
   "metadata": {},
   "outputs": [],
   "source": [
    "%matplotlib inline\n",
    "pi_pulse_amp = Analysis.exp1D.rabi_length(expt_dataset, method = \"Sine\")\n",
    "machine.qubits[qubit_index].pi_amp = pi_pulse_amp\n",
    "machine = Analysis.set_machine(machine)"
   ]
  },
  {
   "cell_type": "markdown",
   "id": "d6af5843",
   "metadata": {},
   "source": [
    "## Qubit T1"
   ]
  },
  {
   "cell_type": "code",
   "execution_count": null,
   "id": "a77d6f5d",
   "metadata": {},
   "outputs": [],
   "source": [
    "%matplotlib qt\n",
    "tau_sweep_abs = np.arange(100,30E3+1,1E3)\n",
    "machine, expt_dataset = Experiment.exp1D.T1.qubit_T1(machine, tau_sweep_abs, qubit_index, n_avg = 10E3, cd_time = 40E3, \n",
    "                                                               simulate_flag = False, simulation_len = 15_000, to_plot = False)"
   ]
  },
  {
   "cell_type": "code",
   "execution_count": null,
   "id": "2733b6dc",
   "metadata": {
    "scrolled": true
   },
   "outputs": [],
   "source": [
    "%matplotlib inline\n",
    "qubit_T1 = Analysis.exp1D.T1(expt_dataset)\n",
    "machine.qubits[qubit_index].T1 = qubit_T1 + 0E6\n",
    "machine = Analysis.set_machine(machine)"
   ]
  },
  {
   "cell_type": "markdown",
   "id": "d347eddd",
   "metadata": {},
   "source": [
    "## Qubit Ramsey"
   ]
  },
  {
   "cell_type": "code",
   "execution_count": null,
   "id": "3d11310d",
   "metadata": {},
   "outputs": [],
   "source": [
    "%matplotlib qt\n",
    "ramsey_duration_sweep = np.arange(16, 10000 + 0.1, 80)  # in units of ns\n",
    "machine, expt_dataset = Experiment.exp1D.Ramsey.ramsey(machine, ramsey_duration_sweep, qubit_index, detuning = 2E6, \n",
    "                                                       n_avg = 1E3, cd_time = 30E3, to_plot = False, simulate_flag = False, simulation_len = 20_000)"
   ]
  },
  {
   "cell_type": "code",
   "execution_count": null,
   "id": "873c1753",
   "metadata": {
    "scrolled": true
   },
   "outputs": [],
   "source": [
    "%matplotlib inline\n",
    "q_T2star = Analysis.exp1D.ramsey(expt_dataset)\n",
    "machine.qubits[qubit_index].T2 = q_T2star + 0E6\n",
    "machine = Analysis.set_machine(machine)"
   ]
  },
  {
   "cell_type": "markdown",
   "id": "ed8d29cf",
   "metadata": {},
   "source": [
    "## ef transition"
   ]
  },
  {
   "cell_type": "markdown",
   "id": "b02eb745",
   "metadata": {},
   "source": [
    "### ef frequency"
   ]
  },
  {
   "cell_type": "code",
   "execution_count": null,
   "id": "1ef197b3",
   "metadata": {},
   "outputs": [],
   "source": [
    "%matplotlib qt\n",
    "ef_freq_sweep = machine.qubits[qubit_index].f_01 + np.arange(-200E6, -150E6 + 1, 1E6) \n",
    "machine, expt_dataset = Experiment.exp1D.Rabi.ef_freq(machine, ef_freq_sweep, qubit_index, pi_amp_rel_ef = 1.0, n_avg = 2E3, \n",
    "                                                      cd_time = 30E3, readout_state = 'g', to_plot = False, simulate_flag = False, simulation_len = 4000)"
   ]
  },
  {
   "cell_type": "code",
   "execution_count": null,
   "id": "17805410",
   "metadata": {},
   "outputs": [],
   "source": [
    "%matplotlib inline\n",
    "ef_freq = Analysis.exp1D.peak_fit(expt_dataset, method=\"Gaussian\")"
   ]
  },
  {
   "cell_type": "code",
   "execution_count": null,
   "id": "e47e8184",
   "metadata": {},
   "outputs": [],
   "source": [
    "machine.qubits[qubit_index].anharmonicity = machine.qubits[qubit_index].f_01 - ef_freq\n",
    "machine = Analysis.set_machine(machine)"
   ]
  },
  {
   "cell_type": "markdown",
   "id": "8f0a1612",
   "metadata": {},
   "source": [
    "### ef transition time Rabi"
   ]
  },
  {
   "cell_type": "code",
   "execution_count": null,
   "id": "c47d6997",
   "metadata": {},
   "outputs": [],
   "source": [
    "%matplotlib qt\n",
    "rabi_duration_sweep = np.arange(16, 240 + 0.1, 4)  # in ns\n",
    "rabi_duration_sweep = rabi_duration_sweep.astype(int)\n",
    "machine, expt_dataset = Experiment.exp1D.Rabi.ef_rabi_length(machine, rabi_duration_sweep, qubit_index, pi_amp_rel_ef = 1.0, \n",
    "                                                                             n_avg = 2E3, cd_time = 30E3, readout_state = 'g', to_plot = True, \n",
    "                                                                             simulate_flag = False, simulation_len = 10_000)"
   ]
  },
  {
   "cell_type": "code",
   "execution_count": null,
   "id": "628e087d",
   "metadata": {},
   "outputs": [],
   "source": [
    "%matplotlib inline\n",
    "pi_pulse_length = Analysis.exp1D.rabi_length(expt_dataset)"
   ]
  },
  {
   "cell_type": "code",
   "execution_count": null,
   "id": "b0d01dbe",
   "metadata": {},
   "outputs": [],
   "source": [
    "machine.qubits[qubit_index].pi_length_ef = 120\n",
    "machine = Analysis.set_machine(machine)"
   ]
  },
  {
   "cell_type": "markdown",
   "id": "80afaf56",
   "metadata": {},
   "source": [
    "### ef transition power Rabi"
   ]
  },
  {
   "cell_type": "code",
   "execution_count": null,
   "id": "f81a5391",
   "metadata": {},
   "outputs": [],
   "source": [
    "%matplotlib qt\n",
    "rabi_amp_sweep_rel = np.arange(0.2, 2.0, 0.025) \n",
    "machine, expt_dataset = Experiment.exp1D.Rabi.ef_rabi_amp(machine, rabi_amp_sweep_rel, qubit_index, n_avg = 2E3, cd_time = 30E3, \n",
    "                                                          readout_state = 'g', to_plot = False, simulate_flag = False, simulation_len = 1000)"
   ]
  },
  {
   "cell_type": "code",
   "execution_count": null,
   "id": "307b7fc8",
   "metadata": {},
   "outputs": [],
   "source": [
    "%matplotlib inline\n",
    "pi_pulse_amp = Analysis.exp1D.rabi_length(expt_dataset, method = \"Sine\")"
   ]
  },
  {
   "cell_type": "code",
   "execution_count": null,
   "id": "73541a8a",
   "metadata": {},
   "outputs": [],
   "source": [
    "machine.qubits[qubit_index].pi_amp_ef = pi_pulse_amp\n",
    "machine = Analysis.set_machine(machine)"
   ]
  },
  {
   "cell_type": "markdown",
   "id": "07e3862d",
   "metadata": {},
   "source": [
    "## 2D qubit spectroscopy vs dc flux"
   ]
  },
  {
   "cell_type": "code",
   "execution_count": null,
   "id": "cb71c47b",
   "metadata": {},
   "outputs": [],
   "source": [
    "# The cheat method when the tuning curve is way off\n",
    "machine.qubits[qubit_index].DC_tuning_curve[2] = 6050\n",
    "machine.qubits[qubit_index].lo = machine.qubits[qubit_index].DC_tuning_curve[2]*1E6 + 100E6\n",
    "machine = Analysis.set_machine(machine)"
   ]
  },
  {
   "cell_type": "code",
   "execution_count": null,
   "id": "5e2aded9",
   "metadata": {},
   "outputs": [],
   "source": [
    "machine = Analysis.get_machine()"
   ]
  },
  {
   "cell_type": "code",
   "execution_count": null,
   "id": "67e3a743",
   "metadata": {},
   "outputs": [],
   "source": [
    "# calibrate octave\n",
    "Experiment.octave_calibration(qubit_index,res_index,flux_index,machine=machine)"
   ]
  },
  {
   "cell_type": "code",
   "execution_count": null,
   "id": "15755e8f",
   "metadata": {},
   "outputs": [],
   "source": [
    "# try the experiment\n",
    "%matplotlib qt\n",
    "dc_flux_sweep = machine.flux_lines[flux_index].max_frequency_point + np.arange(-0.4,0.4+1E-4,0.02)\n",
    "_,qubit_freq_sweep,dc_flux_sweep,sig_amp_qubit = Experiment.exp2D.Rabi.qubit_freq_vs_dc_flux(dc_flux_sweep,qubit_index,res_index,flux_index,\n",
    "                                 n_avg = 1E3, cd_time = 20E3, plot_flag = True)"
   ]
  },
  {
   "cell_type": "code",
   "execution_count": null,
   "id": "c50d8fa7",
   "metadata": {},
   "outputs": [],
   "source": [
    "# udpate the sweet spot\n",
    "%matplotlib inline\n",
    "poly_param = Analysis.exp2D.qubit_vs_dc_flux(qubit_freq_sweep, dc_flux_sweep, sig_amp_qubit, fit_order = 2, plot_flag = False)\n",
    "machine.flux_lines[flux_index].max_frequency_point = Analysis.get_sweept_spot(poly_param).tolist() + 0E1\n",
    "print(f\"sweet spot flux: {machine.flux_lines[flux_index].max_frequency_point:.5f} V\")"
   ]
  },
  {
   "cell_type": "code",
   "execution_count": null,
   "id": "68b35bb7",
   "metadata": {},
   "outputs": [],
   "source": [
    "# save the sweep spot flux according to fitted parameter\n",
    "poly_param = Analysis.exp2D.qubit_vs_dc_flux(qubit_freq_sweep, dc_flux_sweep, sig_amp_qubit, fit_order = 4, plot_flag = True)\n",
    "machine.qubits[qubit_index].DC_tuning_curve = poly_param.tolist()\n",
    "machine = Analysis.set_machine(machine)\n",
    "Analysis.update_analysis_tuning_curve(qubit_index,res_index,flux_index)"
   ]
  },
  {
   "cell_type": "markdown",
   "id": "8164027c",
   "metadata": {},
   "source": [
    "## 2D qubit spectroscopy vs fast flux"
   ]
  },
  {
   "cell_type": "code",
   "execution_count": null,
   "id": "1afc5b22",
   "metadata": {},
   "outputs": [],
   "source": [
    "# set DC voltage to sweet spot, after possible dc flux sweep\n",
    "machine = Experiment.set_QDAC(qubit_index,res_index,flux_index,machine.flux_lines[flux_index].max_frequency_point)\n",
    "machine = Analysis.set_machine(machine)"
   ]
  },
  {
   "cell_type": "markdown",
   "id": "a6e48433",
   "metadata": {},
   "source": [
    "### slow version, compiling 1D scans"
   ]
  },
  {
   "cell_type": "code",
   "execution_count": null,
   "id": "0dee5272",
   "metadata": {},
   "outputs": [],
   "source": [
    "# octave calibration\n",
    "machine.qubits[qubit_index].lo = machine.qubits[qubit_index].f_01 + 200E6\n",
    "machine = Analysis.set_machine(machine)\n",
    "Experiment.octave_calibration(qubit_index,res_index,flux_index,calibration_flag = True)"
   ]
  },
  {
   "cell_type": "code",
   "execution_count": null,
   "id": "e7bd23a6",
   "metadata": {},
   "outputs": [],
   "source": [
    "machine = Analysis.get_machine()"
   ]
  },
  {
   "cell_type": "code",
   "execution_count": null,
   "id": "10fe63b6",
   "metadata": {},
   "outputs": [],
   "source": [
    "# try the experiment\n",
    "%matplotlib qt\n",
    "#ff_sweep = np.arange(-0.02,-0.28-1E-4,-0.02)\n",
    "ff_sweep = np.arange(0,0.25+1E-4,0.05)\n",
    "qubit_if_sweep = np.arange(-60E6, 60E6 + 1, 1E6)\n",
    "if False: # first time running this, no AC_tuning_curve\n",
    "    machine,qubit_freq_sweep,ff_sweep_abs,sig_amp_qubit = Experiment.exp2D.Rabi.qubit_freq_vs_fast_flux_slow(ff_sweep,qubit_if_sweep,\n",
    "          qubit_index,res_index,flux_index,ff_to_dc_ratio = 5.5, machine = machine, n_avg = 1E3, cd_time = 20E3, pi_amp_rel = 1.0, plot_flag = True)\n",
    "else: # after the first run \n",
    "    machine,qubit_freq_sweep,ff_sweep_abs,sig_amp_qubit = Experiment.exp2D.Rabi.qubit_freq_vs_fast_flux_slow(ff_sweep,qubit_if_sweep,\n",
    "          qubit_index,res_index,flux_index,ff_to_dc_ratio = None, machine = machine, n_avg = 1E3, cd_time = 20E3, pi_amp_rel = 1.0, plot_flag = True)"
   ]
  },
  {
   "cell_type": "code",
   "execution_count": null,
   "id": "32fd2424",
   "metadata": {},
   "outputs": [],
   "source": [
    "# save the fitted tuning curve\n",
    "%matplotlib inline\n",
    "poly_param = Analysis.exp2D.qubit_vs_fast_flux(qubit_freq_sweep, ff_sweep_abs, sig_amp_qubit, fit_order = 4, plot_flag = True)\n",
    "machine.qubits[qubit_index].AC_tuning_curve = poly_param.tolist()\n",
    "machine = Analysis.set_machine(machine)\n",
    "Analysis.update_analysis_tuning_curve(qubit_index,res_index,flux_index)"
   ]
  },
  {
   "cell_type": "markdown",
   "id": "aca48e4e",
   "metadata": {},
   "source": [
    "### fast version, runs blockwise 2D sweeps"
   ]
  },
  {
   "cell_type": "code",
   "execution_count": null,
   "id": "4c098447",
   "metadata": {},
   "outputs": [],
   "source": [
    "machine = Analysis.get_machine()"
   ]
  },
  {
   "cell_type": "code",
   "execution_count": null,
   "id": "72d896d5",
   "metadata": {
    "scrolled": true
   },
   "outputs": [],
   "source": [
    "%matplotlib qt\n",
    "q_freq_max = np.floor(np.polyval(machine.qubits[qubit_index].AC_tuning_curve, 0.0) * 1E6)\n",
    "qubit_freq_sweep = np.arange(q_freq_max, 4E9, -5E6)\n",
    "#qubit_freq_sweep = np.arange(q_freq_max,4E9,-100E6)\n",
    "qubit_if_sweep = np.arange(-60E6, 60E6 + 1, 0.5E6)\n",
    "machine,qubit_freq_sweep,ff_sweep_abs,sig_amp_qubit = Experiment.exp2D.Rabi.qubit_freq_vs_fast_flux(qubit_freq_sweep,qubit_if_sweep,\n",
    "          qubit_index,res_index,flux_index, n_avg = 5E3, cd_time = 20E3, plot_flag = True)"
   ]
  },
  {
   "cell_type": "code",
   "execution_count": null,
   "id": "f2577e29",
   "metadata": {},
   "outputs": [],
   "source": [
    "# save the fitted tuning curve\n",
    "%matplotlib inline\n",
    "poly_param = Analysis.exp2D.qubit_vs_fast_flux(qubit_freq_sweep, ff_sweep_abs, sig_amp_qubit, fit_order = 4, plot_flag = True)\n",
    "machine.qubits[qubit_index].AC_tuning_curve = poly_param.tolist()\n",
    "#machine.qubits[qubit_index].AC_tuning_curve = [-4245.549395948013,0.0,-6707.594982241495,0.0,6413.009439410573]\n",
    "machine = Analysis.set_machine(machine)\n",
    "Analysis.update_analysis_tuning_curve(qubit_index,res_index,flux_index)"
   ]
  },
  {
   "cell_type": "code",
   "execution_count": null,
   "id": "3cbe75b8",
   "metadata": {},
   "outputs": [],
   "source": [
    "%matplotlib inline\n",
    "fig = plt.figure()\n",
    "plt.rcParams['figure.figsize'] = [8, 4]\n",
    "plt.pcolormesh(ff_sweep_abs, qubit_freq_sweep.T / u.MHz, sig_amp_qubit.T, cmap=\"seismic\")\n",
    "plt.title(\"Qubit tuning curve\")\n",
    "plt.xlabel(\"fast flux level [V]\")\n",
    "plt.ylabel(\"Frequency [MHz]\")\n",
    "plt.colorbar()"
   ]
  },
  {
   "cell_type": "markdown",
   "id": "27a943af",
   "metadata": {},
   "source": [
    "# TLS experiments"
   ]
  },
  {
   "cell_type": "markdown",
   "id": "38b715fc",
   "metadata": {},
   "source": [
    "## TLS SWAP spectroscopy"
   ]
  },
  {
   "cell_type": "code",
   "execution_count": null,
   "id": "cec4abd9",
   "metadata": {},
   "outputs": [],
   "source": [
    "# Go back to the sweet spot and calibrate\n",
    "machine.qubits[qubit_index].f_01 = int(np.floor(np.polyval(machine.qubits[qubit_index].AC_tuning_curve, 0.0) * 1E6)) + 0E6\n",
    "machine.qubits[qubit_index].lo = machine.qubits[qubit_index].f_01 + 50E6\n",
    "machine = Analysis.set_machine(machine)"
   ]
  },
  {
   "cell_type": "code",
   "execution_count": null,
   "id": "708f7b6f",
   "metadata": {
    "scrolled": true
   },
   "outputs": [],
   "source": [
    "Experiment.octave_calibration(qubit_index,res_index,flux_index,machine=machine,calibration_flag=True)"
   ]
  },
  {
   "cell_type": "markdown",
   "id": "92c7acfa",
   "metadata": {},
   "source": [
    "### coarse, no baking"
   ]
  },
  {
   "cell_type": "code",
   "execution_count": null,
   "id": "00622ab7",
   "metadata": {},
   "outputs": [],
   "source": [
    "%matplotlib qt\n",
    "tau_sweep_abs = np.arange(16,160 + 0.1,4)\n",
    "ff_sweep_abs = np.arange(0.1,0.5,0.001)\n",
    "machine, ff_sweep_abs, tau_sweep_abs, sig_amp = Experiment.exp2D.SWAP.swap_coarse(tau_sweep_abs, ff_sweep_abs, qubit_index, res_index, flux_index, \n",
    "                      n_avg = 5E3, cd_time = 20E3, simulate_flag=False, simulation_len=10_000, plot_flag=True, machine = machine)"
   ]
  },
  {
   "cell_type": "markdown",
   "id": "a4c4c8a6",
   "metadata": {},
   "source": [
    "### fine, with baking"
   ]
  },
  {
   "cell_type": "code",
   "execution_count": null,
   "id": "9006ca81",
   "metadata": {},
   "outputs": [],
   "source": [
    "%matplotlib qt\n",
    "tau_sweep_abs = np.arange(4,100,1)\n",
    "ff_sweep_abs = np.arange(0.32,0.34+1E-4,0.0001)\n",
    "machine, ff_sweep_abs, tau_sweep_abs, sig_amp = Experiment.exp2D.SWAP.swap_fine(tau_sweep_abs, ff_sweep_abs, qubit_index, res_index, flux_index, \n",
    "                      n_avg = 1E3, cd_time = 20E3, simulate_flag=False, simulation_len=10_000, plot_flag=True, machine = machine)"
   ]
  },
  {
   "cell_type": "code",
   "execution_count": null,
   "id": "f0e9554e",
   "metadata": {},
   "outputs": [],
   "source": [
    "machine.flux_lines[flux_index].iswap.length.append(20)\n",
    "machine.flux_lines[flux_index].iswap.level.append(0.3278)\n",
    "machine = Analysis.set_machine(machine)"
   ]
  },
  {
   "cell_type": "markdown",
   "id": "9e9a7064",
   "metadata": {},
   "source": [
    "### estiguess of the TLS freq., based on SWAP flux"
   ]
  },
  {
   "cell_type": "code",
   "execution_count": null,
   "id": "2d52fa3d",
   "metadata": {},
   "outputs": [],
   "source": [
    "machine = Analysis.get_machine()"
   ]
  },
  {
   "cell_type": "code",
   "execution_count": null,
   "id": "efc4d8f8",
   "metadata": {},
   "outputs": [],
   "source": [
    "freq_tls = np.polyval(machine.qubits[qubit_index].AC_tuning_curve,machine.flux_lines[flux_index].iswap.level)\n",
    "machine.qubits[qubit_index].f_tls.append(np.floor(freq_tls[-1]*1E6))    \n",
    "machine = Analysis.set_machine(machine)"
   ]
  },
  {
   "cell_type": "markdown",
   "id": "e16067f7",
   "metadata": {},
   "source": [
    "## TLS T1"
   ]
  },
  {
   "cell_type": "code",
   "execution_count": null,
   "id": "f02b322e",
   "metadata": {},
   "outputs": [],
   "source": [
    "TLS_index = 1"
   ]
  },
  {
   "cell_type": "code",
   "execution_count": null,
   "id": "3c85f9be",
   "metadata": {},
   "outputs": [],
   "source": [
    "%matplotlib qt\n",
    "tau_sweep_abs = np.arange(100,5000E3+1,1E5)\n",
    "#tau_sweep_abs = np.logspace(100,2000E3,50,endpoint=True)\n",
    "machine, tau_sweep_abs, sig_amp = Experiment.exp1D.T1.TLS_T1(tau_sweep_abs, qubit_index, res_index, flux_index, TLS_index,\n",
    "                   n_avg = 5E3, cd_time_qubit = 30E3, cd_time_TLS = 10000E3, simulate_flag = False, simulation_len = 15_000, plot_flag = True)"
   ]
  },
  {
   "cell_type": "code",
   "execution_count": null,
   "id": "d90ed2c5",
   "metadata": {},
   "outputs": [],
   "source": [
    "%matplotlib inline\n",
    "TLS_T1 = Analysis.exp1D.T1(tau_sweep_abs,sig_amp,method = \"exp\")"
   ]
  },
  {
   "cell_type": "markdown",
   "id": "f56bc3e8",
   "metadata": {},
   "source": [
    "## TLS drive"
   ]
  },
  {
   "cell_type": "markdown",
   "id": "3f619835",
   "metadata": {},
   "source": [
    "### TLS spectroscopy"
   ]
  },
  {
   "cell_type": "code",
   "execution_count": null,
   "id": "2dffeaa2",
   "metadata": {},
   "outputs": [],
   "source": [
    "TLS_index = 0"
   ]
  },
  {
   "cell_type": "code",
   "execution_count": null,
   "id": "e934b25b",
   "metadata": {},
   "outputs": [],
   "source": [
    "# TLS freq estimate based on SWAP flux amplitude\n",
    "TLS_freq_est = np.polyval(machine.qubits[qubit_index].AC_tuning_curve,machine.flux_lines[flux_index].iswap.level[TLS_index])\n",
    "TLS_freq_est = np.round(TLS_freq_est * 1E6)\n",
    "machine.qubits[qubit_index].f_tls[TLS_index+1] = (int(TLS_freq_est.tolist())) + 0E6\n",
    "machine.qubits[qubit_index].lo = int(TLS_freq_est.tolist()) - 200E6"
   ]
  },
  {
   "cell_type": "code",
   "execution_count": null,
   "id": "6d802060",
   "metadata": {},
   "outputs": [],
   "source": [
    "# set the \"qubit frequency\"\n",
    "machine.qubits[qubit_index].f_01 = machine.qubits[qubit_index].f_tls[TLS_index+1] + 0E6\n",
    "machine = Analysis.set_machine(machine)"
   ]
  },
  {
   "cell_type": "code",
   "execution_count": null,
   "id": "c801b7a4",
   "metadata": {},
   "outputs": [],
   "source": [
    "# calibrate octave for TLS sweep\n",
    "Experiment.octave_calibration(qubit_index,res_index,flux_index,machine = machine,calibration_flag = True)"
   ]
  },
  {
   "cell_type": "code",
   "execution_count": null,
   "id": "a10a09b8",
   "metadata": {},
   "outputs": [],
   "source": [
    "%matplotlib qt\n",
    "TLS_freq_sweep = machine.qubits[qubit_index].f_01 + np.arange(-70E6,70E6+1,1.0E6)\n",
    "machine, TLS_freq_sweep, sig_amp = Experiment.exp1D.Rabi.TLS_freq(TLS_freq_sweep, qubit_index, res_index, flux_index, TLS_index,\n",
    "                  n_avg = 1E3, cd_time_qubit = 20E3, cd_time_TLS = 200E3, simulate_flag = False, simulation_len = 10_000, plot_flag = True, machine = machine)"
   ]
  },
  {
   "cell_type": "code",
   "execution_count": null,
   "id": "8288b6fb",
   "metadata": {
    "scrolled": true
   },
   "outputs": [],
   "source": [
    "%matplotlib inline\n",
    "qubit_freq = Analysis.exp1D.peak_fit(x=TLS_freq_sweep,y=sig_amp,method=\"gaussian\")\n",
    "qubit_freq = int(qubit_freq.tolist())\n",
    "machine.qubits[qubit_index].f_tls[TLS_index+1] = qubit_freq + 0E6\n",
    "machine.qubits[qubit_index].lo = qubit_freq - 200E6\n",
    "machine = Analysis.set_machine(machine)"
   ]
  },
  {
   "cell_type": "markdown",
   "id": "8dea7ec4",
   "metadata": {},
   "source": [
    "### TLS rabi"
   ]
  },
  {
   "cell_type": "code",
   "execution_count": null,
   "id": "8f115680",
   "metadata": {},
   "outputs": [],
   "source": [
    "# save the current qubit to the f_tls[0]\n",
    "machine.qubits[qubit_index].f_tls[0] = machine.qubits[qubit_index].f_01\n",
    "# set the \"qubit frequency\"\n",
    "machine.qubits[qubit_index].f_01 = machine.qubits[qubit_index].f_tls[TLS_index+1]"
   ]
  },
  {
   "cell_type": "code",
   "execution_count": null,
   "id": "6fdb039f",
   "metadata": {},
   "outputs": [],
   "source": [
    "%matplotlib qt\n",
    "rabi_duration_sweep = np.arange(4, 300 + 0.1, 4)  # in units of clock cyles\n",
    "machine, rabi_duration_sweep, sig_amp = Experiment.exp1D.Rabi.TLS_rabi_length(rabi_duration_sweep, qubit_index, res_index, flux_index, TLS_index,\n",
    "                  pi_amp_rel = 1.0, n_avg = 10E3, cd_time_qubit = 20E3, cd_time_TLS = 20E3, simulate_flag = False, simulation_len = 10_000, plot_flag = True, machine = machine)"
   ]
  },
  {
   "cell_type": "code",
   "execution_count": null,
   "id": "c14fe89d",
   "metadata": {},
   "outputs": [],
   "source": []
  },
  {
   "cell_type": "code",
   "execution_count": null,
   "id": "0cb677b2",
   "metadata": {},
   "outputs": [],
   "source": []
  }
 ],
 "metadata": {
  "kernelspec": {
   "display_name": "Python 3 (ipykernel)",
   "language": "python",
   "name": "python3"
  },
  "language_info": {
   "codemirror_mode": {
    "name": "ipython",
    "version": 3
   },
   "file_extension": ".py",
   "mimetype": "text/x-python",
   "name": "python",
   "nbconvert_exporter": "python",
   "pygments_lexer": "ipython3",
   "version": "3.9.19"
  }
 },
 "nbformat": 4,
 "nbformat_minor": 5
}
