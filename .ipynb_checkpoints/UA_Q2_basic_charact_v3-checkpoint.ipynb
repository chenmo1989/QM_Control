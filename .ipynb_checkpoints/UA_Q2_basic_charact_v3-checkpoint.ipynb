{
 "cells": [
  {
   "cell_type": "markdown",
   "id": "49d22572",
   "metadata": {},
   "source": [
    "# Basic characterizations of UA Q2\n",
    "### using Experiment and Analysis classes"
   ]
  },
  {
   "cell_type": "code",
   "execution_count": 1,
   "id": "b08c4dec",
   "metadata": {
    "scrolled": true
   },
   "outputs": [
    {
     "name": "stdout",
     "output_type": "stream",
     "text": [
      "2024-05-18 11:26:41,847 - qm - INFO     - Starting session: b36d41ec-d390-4b71-9db4-80cb89e5a939\n"
     ]
    }
   ],
   "source": [
    "from qm.qua import *\n",
    "from qm import QuantumMachinesManager, SimulationConfig, LoopbackInterface, generate_qua_script\n",
    "from qm.octave import *\n",
    "from configuration import *\n",
    "from scipy import signal\n",
    "from qualang_tools.bakery import baking\n",
    "from qm.octave import QmOctaveConfig\n",
    "from quam import QuAM\n",
    "from scipy.io import savemat, loadmat\n",
    "\n",
    "from scipy.optimize import curve_fit\n",
    "from scipy.signal import savgol_filter\n",
    "#from qutip import *\n",
    "from typing import Union\n",
    "from macros import *\n",
    "import datetime \n",
    "import os\n",
    "import time\n",
    "import warnings\n",
    "import json\n",
    "import matplotlib.pyplot as plt\n",
    "import numpy as np\n",
    "import Labber\n",
    "import xarray as xr\n",
    "\n",
    "from ExperimentClass import ExperimentHandle\n",
    "from AnalysisClass import AnalysisHandle\n",
    "\n",
    "warnings.filterwarnings(\"ignore\")\n",
    "\n",
    "qubit_index = 0 # for UA Q2\n",
    "TLS_index = 0 # for TLS of interest\n",
    "dc_flux_index = 1 # for dc line"
   ]
  },
  {
   "cell_type": "code",
   "execution_count": 2,
   "id": "44475f4c",
   "metadata": {},
   "outputs": [],
   "source": [
    "Analysis = AnalysisHandle(\"quam_state_q1.json\")\n",
    "machine = Analysis.get_machine()\n",
    "Experiment = ExperimentHandle(machine)"
   ]
  },
  {
   "cell_type": "code",
   "execution_count": null,
   "id": "76f18494",
   "metadata": {},
   "outputs": [],
   "source": [
    "# initialize Labber-controlled hardware\n",
    "# get values from QDAC first\n",
    "#machine = Experiment.set_Labber.get_value_from_QDAC(machine)\n",
    "# set all Labber settings\n",
    "machine = Experiment.set_Labber.set_Labber(machine, qubit_index)\n",
    "# set octave to external clock\n",
    "Experiment.set_octave.set_clock(machine)"
   ]
  },
  {
   "cell_type": "code",
   "execution_count": null,
   "id": "56473371",
   "metadata": {},
   "outputs": [],
   "source": [
    "machine.octaves[0].LO_sources[1].LO_frequency = machine.qubits[qubit_index].f_01 + 50e6\n",
    "machine = Analysis.set_machine(machine)"
   ]
  },
  {
   "cell_type": "code",
   "execution_count": null,
   "id": "e1f14759",
   "metadata": {
    "scrolled": true
   },
   "outputs": [],
   "source": [
    "# octave calibration\n",
    "machine = Experiment.set_octave.calibration(machine, qubit_index)"
   ]
  },
  {
   "cell_type": "markdown",
   "id": "bcccaeac-9481-45e1-8bfa-7f4834d2ed2b",
   "metadata": {},
   "source": [
    "## Time of Flight"
   ]
  },
  {
   "cell_type": "code",
   "execution_count": null,
   "id": "9ee6fd99-40a1-4f44-b5b4-a11ff2bc568c",
   "metadata": {},
   "outputs": [],
   "source": [
    "# time_of_flight\n",
    "# experiment\n",
    "%matplotlib qt\n",
    "machine, expt_dataset = Experiment.exp1D.RR.time_of_flight(machine,qubit_index, n_avg = 10E3, cd_time = 10E3, to_simulate = False, simulation_len = 1000)\n",
    "# plot\n",
    "%matplotlib inline\n",
    "dc_offset_i, dc_offset_q, delay = Analysis.exp1D.time_of_flight(expt_dataset)"
   ]
  },
  {
   "cell_type": "code",
   "execution_count": null,
   "id": "d333aa1a-8f67-431f-b2db-86b96b043583",
   "metadata": {},
   "outputs": [],
   "source": [
    "# update the offset\n",
    "machine.global_parameters.downconversion_offset_I[0] += dc_offset_i\n",
    "machine.global_parameters.downconversion_offset_Q[0] += dc_offset_q\n",
    "machine.resonators[qubit_index].downconversion_offset_I = machine.global_parameters.downconversion_offset_I[0]\n",
    "machine.resonators[qubit_index].downconversion_offset_Q = machine.global_parameters.downconversion_offset_Q[0]\n",
    "#machine.global_parameters.time_of_flight = 304-0\n",
    "machine = Analysis.set_machine(machine)"
   ]
  },
  {
   "cell_type": "markdown",
   "id": "3738dafc-6231-413a-8eff-385dafda11c0",
   "metadata": {},
   "source": [
    "## Resonator spectroscopy"
   ]
  },
  {
   "cell_type": "markdown",
   "id": "b3580ae9-30dc-46a5-a2f3-daa2d3dd1f44",
   "metadata": {},
   "source": [
    "### 1D resonator spectroscopy"
   ]
  },
  {
   "cell_type": "code",
   "execution_count": null,
   "id": "bd8d22b0-fbc8-4c65-b470-a3f40753b906",
   "metadata": {},
   "outputs": [],
   "source": [
    "%matplotlib qt\n",
    "res_freq_sweep = machine.resonators[qubit_index].f_readout + np.arange(-5E6,5E6 + 1.0,0.05E6)\n",
    "machine, expt_dataset = Experiment.exp1D.RR.rr_freq(machine, res_freq_sweep, qubit_index, n_avg = 1E3, cd_time = 10E3, live_plot = False,\n",
    "                                                    readout_state = 'g', to_simulate = False, data_process_method = 'Amplitude')\n",
    "# Readout in excited state\n",
    "# machine, res_freq_sweep, sig_amp = Experiment.exp1D.RR.rr_freq(res_freq_sweep, qubit_index, res_index, flux_index, \n",
    "#                           n_avg = 1E3, cd_time = 5E3, readout_state = 'e', simulate_flag = False, simulation_len = 1000)"
   ]
  },
  {
   "cell_type": "code",
   "execution_count": null,
   "id": "4a5a6f4e-8b1e-4047-b219-d862db4d17d9",
   "metadata": {},
   "outputs": [],
   "source": [
    "# find the minimal\n",
    "%matplotlib inline\n",
    "res_freq = Analysis.exp1D.rr_freq(expt_dataset)\n",
    "machine.resonators[qubit_index].f_readout = res_freq + 0E6"
   ]
  },
  {
   "cell_type": "code",
   "execution_count": null,
   "id": "5f25fe84-527d-42d9-80e6-ebe0ffcd8138",
   "metadata": {
    "scrolled": true
   },
   "outputs": [],
   "source": [
    "machine.octaves[0].LO_sources[0].LO_frequency = machine.resonators[qubit_index].f_readout + 50E6\n",
    "machine = Experiment.set_octave.calibration(machine, qubit_index)\n",
    "machine = Analysis.set_machine(machine)"
   ]
  },
  {
   "cell_type": "markdown",
   "id": "237b78ed-531a-4653-ae72-07fb9886f167",
   "metadata": {},
   "source": [
    "### 2D resonator spectroscopy"
   ]
  },
  {
   "cell_type": "code",
   "execution_count": null,
   "id": "a8078b70-d53f-44d8-9ef8-f16cde6f1d28",
   "metadata": {},
   "outputs": [],
   "source": [
    "res_freq_sweep = np.arange(7.127E9,7.138E9 + 1.0,0.05E6)\n",
    "dc_flux_sweep = np.arange(-9,9.001,0.1)\n",
    "%matplotlib qt\n",
    "machine, expt_dataset = Experiment.exp2D.RR.rr_vs_dc_flux(machine, res_freq_sweep, dc_flux_sweep, qubit_index,\n",
    "                                                          n_avg = 1000, cd_time = 10E3, live_plot = True)"
   ]
  },
  {
   "cell_type": "code",
   "execution_count": null,
   "id": "6acc8786-a989-4e6e-87db-db558456533c",
   "metadata": {},
   "outputs": [],
   "source": [
    "expt_dataset"
   ]
  },
  {
   "cell_type": "code",
   "execution_count": null,
   "id": "28e7c8d3-ca4a-4861-9d44-7d66b0254968",
   "metadata": {},
   "outputs": [],
   "source": [
    "expt_dataset = xr.load_dataset(r\"Z:\\QM_Data_DF5\\2024\\05\\Data_0517\\2024-05-17_q1_res_spec2D_2.nc\")"
   ]
  },
  {
   "cell_type": "code",
   "execution_count": null,
   "id": "e7ae846b-91ed-4126-aac0-59a7e7b7e157",
   "metadata": {},
   "outputs": [],
   "source": [
    "expt_dataset = expt_dataset.set_coords(\"DC Flux\")\n",
    "expt_dataset = expt_dataset.set_coords(\"Readout Frequency\")"
   ]
  },
  {
   "cell_type": "code",
   "execution_count": null,
   "id": "db48d920-fa29-4291-a48d-8495150c2788",
   "metadata": {},
   "outputs": [],
   "source": [
    "%matplotlib inline\n",
    "ham_param = Analysis.exp2D.rr_vs_dc_flux(expt_dataset, to_plot = True)\n",
    "poly_param = Analysis.exp2D.qubit_vs_dc_flux_guess(ham_param = ham_param, to_plot = True)"
   ]
  },
  {
   "cell_type": "code",
   "execution_count": null,
   "id": "8e23a62d-6e2b-48dc-8d7a-7303679b9ece",
   "metadata": {},
   "outputs": [],
   "source": [
    "# save the fitting parameters\n",
    "machine.resonators[qubit_index].tuning_curve = ham_param\n",
    "machine.qubits[qubit_index].DC_tuning_curve = poly_param\n",
    "machine = Analysis.set_machine(machine)"
   ]
  },
  {
   "cell_type": "code",
   "execution_count": null,
   "id": "f39b449b-f23d-4cdc-a446-93675aa14746",
   "metadata": {},
   "outputs": [],
   "source": [
    "# save the sweep spot flux according to fitted parameter\n",
    "machine.dc_flux[dc_flux_index].max_frequency_point = Analysis.get_sweept_spot(poly_param)\n",
    "machine = Analysis.set_machine(machine)"
   ]
  },
  {
   "cell_type": "markdown",
   "id": "c6e45c0e-9b6f-4481-825b-c486b8a832ae",
   "metadata": {},
   "source": [
    "if 2D res spectroscopy is just to test the experiment, and I want to go back to sweet spot"
   ]
  },
  {
   "cell_type": "code",
   "execution_count": null,
   "id": "87266520-68ea-42ab-8678-ca938252fd60",
   "metadata": {},
   "outputs": [],
   "source": [
    "machine = Analysis.update_machine_res_frequency_sweet_spot(machine, qubit_index, dc_flux_index) \n",
    "machine.octaves[0].LO_sources[0].LO_frequency = machine.resonators[qubit_index].f_readout + 50e6\n",
    "machine.dc_flux[dc_flux_index].dc_voltage = machine.dc_flux[dc_flux_index].max_frequency_point\n",
    "machine = Experiment.set_Labber.set_Labber(machine, qubit_index)\n",
    "machine = Analysis.set_machine(machine)\n",
    "# octave calibration\n",
    "machine = Experiment.set_octave.calibration(machine, qubit_index)"
   ]
  },
  {
   "cell_type": "markdown",
   "id": "7512d423",
   "metadata": {},
   "source": [
    "## 1D qubit spectroscopy @ sweep spot"
   ]
  },
  {
   "cell_type": "code",
   "execution_count": null,
   "id": "463e4ef5",
   "metadata": {},
   "outputs": [],
   "source": [
    "if True: # for the DC flux\n",
    "    qubit_freq_est = np.polyval(machine.qubits[qubit_index].DC_tuning_curve,machine.dc_flux[dc_flux_index].max_frequency_point) * 1E6 # in Hz\n",
    "else: # for the fast flux\n",
    "    qubit_freq_est = np.polyval(machine.qubits[qubit_index].AC_tuning_curve,0.0) * 1E6 # in Hz\n",
    "\n",
    "qubit_freq_sweep = int(qubit_freq_est) + np.arange(-70E6, 70E6 + 1, 1E6)\n",
    "    \n",
    "%matplotlib qt\n",
    "machine, expt_dataset = Experiment.exp1D.Rabi.qubit_freq(machine, qubit_freq_sweep, qubit_index, pi_amp_rel = 1.0, live_plot = False,\n",
    "                                                         ff_amp = 0.0, n_avg = 1E3, cd_time = 30E3, to_simulate = False, data_process_method = 'I')"
   ]
  },
  {
   "cell_type": "code",
   "execution_count": null,
   "id": "8f0728e9-80b8-4898-b624-db04a66cf266",
   "metadata": {},
   "outputs": [],
   "source": [
    "%matplotlib inline\n",
    "qubit_freq = Analysis.exp1D.peak_fit(expt_dataset, method=\"Gaussian\", data_process_method = 'I')\n",
    "machine.qubits[qubit_index].f_01 = qubit_freq + 0E6"
   ]
  },
  {
   "cell_type": "code",
   "execution_count": null,
   "id": "e6febf4d-e347-4483-b4c8-1e124eee36ae",
   "metadata": {},
   "outputs": [],
   "source": [
    "machine.octaves[0].LO_sources[1].LO_frequency = machine.qubits[qubit_index].f_01 + 50e6\n",
    "machine = Experiment.set_octave.calibration(machine, qubit_index)\n",
    "machine = Analysis.set_machine(machine)"
   ]
  },
  {
   "cell_type": "markdown",
   "id": "7f73ccef",
   "metadata": {},
   "source": [
    "## Rabi"
   ]
  },
  {
   "cell_type": "markdown",
   "id": "8dc4372f",
   "metadata": {},
   "source": [
    "### Time Rabi"
   ]
  },
  {
   "cell_type": "code",
   "execution_count": null,
   "id": "55516ebb",
   "metadata": {
    "scrolled": true
   },
   "outputs": [],
   "source": [
    "%matplotlib qt\n",
    "rabi_duration_sweep = np.arange(16, 240 + 0.1, 1)  # in ns\n",
    "machine, expt_dataset = Experiment.exp1D.Rabi.rabi_length(machine, rabi_duration_sweep, qubit_index, pi_amp_rel = 1.0, live_plot = True, \n",
    "                                                          n_avg = 2E3, cd_time = 25E3, to_simulate = False, data_process_method = 'I')"
   ]
  },
  {
   "cell_type": "code",
   "execution_count": null,
   "id": "c1830c11",
   "metadata": {
    "scrolled": true
   },
   "outputs": [],
   "source": [
    "%matplotlib inline\n",
    "pi_pulse_length = Analysis.exp1D.rabi_length(expt_dataset, method = \"Sine\", to_plot = True, data_process_method = 'I')"
   ]
  },
  {
   "cell_type": "code",
   "execution_count": null,
   "id": "2ab3d637",
   "metadata": {},
   "outputs": [],
   "source": [
    "machine.qubits[qubit_index].pi_length = 100\n",
    "# machine.qubits[qubit_index].pi_amp[0] = 0.0270983\n",
    "machine = Analysis.set_machine(machine)"
   ]
  },
  {
   "cell_type": "markdown",
   "id": "cc52c092",
   "metadata": {},
   "source": [
    "### Power Rabi"
   ]
  },
  {
   "cell_type": "code",
   "execution_count": null,
   "id": "5ae8cbc8",
   "metadata": {},
   "outputs": [],
   "source": [
    "%matplotlib qt\n",
    "rabi_amp_sweep_rel = np.arange(0.1, 2.0, 0.025) \n",
    "machine, expt_dataset = Experiment.exp1D.Rabi.rabi_amp(machine, rabi_amp_sweep_rel, qubit_index, ff_amp = 0.0, live_plot = True,\n",
    "                                                       n_avg = 10E3, cd_time = 20E3, data_process_method = 'I')"
   ]
  },
  {
   "cell_type": "code",
   "execution_count": null,
   "id": "7b1e55c4",
   "metadata": {},
   "outputs": [],
   "source": [
    "%matplotlib inline\n",
    "pi_pulse_amp = Analysis.exp1D.rabi_length(expt_dataset, method = \"Sine\", data_process_method = 'I')\n",
    "machine.qubits[qubit_index].pi_amp = pi_pulse_amp\n",
    "machine = Analysis.set_machine(machine)"
   ]
  },
  {
   "cell_type": "markdown",
   "id": "5f002c99-dfda-4c2a-888d-1330e0001920",
   "metadata": {},
   "source": [
    "## Single-Shot Readout"
   ]
  },
  {
   "cell_type": "markdown",
   "id": "35e641b8-2fc9-4985-9bf3-605b52be847b",
   "metadata": {},
   "source": [
    "### Find frequency between g, e"
   ]
  },
  {
   "cell_type": "code",
   "execution_count": null,
   "id": "e226bb0b-2d49-4db5-9b73-8b9a228ea7ae",
   "metadata": {},
   "outputs": [],
   "source": [
    "%matplotlib qt\n",
    "res_freq_sweep = machine.resonators[qubit_index].f_readout + np.arange(-5E6,5E6 + 1.0,0.05E6)\n",
    "machine, expt_dataset = Experiment.exp1D.RR.rr_freq_ge(machine, res_freq_sweep, qubit_index, n_avg = 1E3, cd_time = 10E3,\n",
    "                                                    to_simulate = False, simulation_len = 1000, live_plot = True, data_process_method = 'Phase')"
   ]
  },
  {
   "cell_type": "code",
   "execution_count": null,
   "id": "d6fbc884-6cb3-49d9-a8a5-8ba6c24daf8b",
   "metadata": {},
   "outputs": [],
   "source": [
    "%matplotlib inline\n",
    "res_freq_phase = Analysis.exp1D.rr_freq_ge(expt_dataset)"
   ]
  },
  {
   "cell_type": "code",
   "execution_count": null,
   "id": "f9786003-28ba-429b-b051-e49b31c76e05",
   "metadata": {},
   "outputs": [],
   "source": [
    "# doesn't have to update. Use res_freq_phase\n",
    "machine.resonators[qubit_index].f_readout = res_freq_phase + 0E6\n",
    "machine.octaves[0].LO_sources[0].LO_frequency = machine.resonators[qubit_index].f_readout + 50E6\n",
    "machine = Experiment.set_octave.calibration(machine, qubit_index)\n",
    "machine = Analysis.set_machine(machine)"
   ]
  },
  {
   "cell_type": "markdown",
   "id": "c50d1616-f934-4527-8f78-619a4758b49b",
   "metadata": {},
   "source": [
    "### IQ blobs"
   ]
  },
  {
   "cell_type": "code",
   "execution_count": null,
   "id": "dbd0f99b-abeb-4a9b-8893-16b3d44ddc17",
   "metadata": {},
   "outputs": [],
   "source": [
    "%matplotlib inline\n",
    "machine, expt_dataset = Experiment.exp1D.RR.single_shot_IQ_blob(machine, qubit_index, n_avg = 30E3, cd_time = 25E3, final_plot = False)"
   ]
  },
  {
   "cell_type": "code",
   "execution_count": null,
   "id": "837b3eda-2dc8-47d4-a535-d8a8ca8fea82",
   "metadata": {},
   "outputs": [],
   "source": [
    "%matplotlib inline\n",
    "angle, threshold, fidelity, gg, ge, eg, ee = Analysis.exp1D.two_state_discriminator(expt_dataset)"
   ]
  },
  {
   "cell_type": "code",
   "execution_count": null,
   "id": "2ac39f4c-5bf9-4665-b49d-16b76493793c",
   "metadata": {},
   "outputs": [],
   "source": [
    "# set the rotation angle\n",
    "machine.resonators[qubit_index].rotation_angle -= angle # note this is the change value not the absolute value!\n",
    "machine.resonators[qubit_index].ge_threshold = threshold\n",
    "machine = Analysis.set_machine(machine)"
   ]
  },
  {
   "cell_type": "markdown",
   "id": "3ff6ef8c-27ae-493c-b031-358377f6567a",
   "metadata": {},
   "source": [
    "### Readout freq optimization"
   ]
  },
  {
   "cell_type": "code",
   "execution_count": null,
   "id": "0b716db7-03ed-437d-bb28-0a5d510f2762",
   "metadata": {},
   "outputs": [],
   "source": [
    "res_freq_sweep = machine.resonators[qubit_index].f_readout + np.arange(-1.5E6, 1.5E6 + 1, 0.05E6)\n",
    "\n",
    "%matplotlib qt\n",
    "machine, expt_dataset = Experiment.exp1D.RR.single_shot_freq_optimization(machine, res_freq_sweep, qubit_index, n_avg = 10E3, cd_time = 25E3, \n",
    "                                                           final_plot = True, live_plot = True)"
   ]
  },
  {
   "cell_type": "code",
   "execution_count": null,
   "id": "5eff05bc-7531-408d-bc0b-b259b6ee45d3",
   "metadata": {},
   "outputs": [],
   "source": [
    "%matplotlib inline\n",
    "res_freq = Analysis.exp1D.peak_fit(expt_dataset,method=\"Gaussian\", data_process_method = 'SNR')"
   ]
  },
  {
   "cell_type": "code",
   "execution_count": null,
   "id": "ea5c1dd1-ea97-4bbe-891b-7db21ed62e4c",
   "metadata": {},
   "outputs": [],
   "source": [
    "machine.resonators[qubit_index].f_readout = res_freq + 0E6\n",
    "machine.octaves[0].LO_sources[0].LO_frequency = machine.resonators[qubit_index].f_readout + 50E6\n",
    "machine = Analysis.set_machine(machine)\n",
    "# octave calibration\n",
    "machine = Experiment.set_octave.calibration(machine, qubit_index)"
   ]
  },
  {
   "cell_type": "markdown",
   "id": "2322fc0d-4621-48e5-8ebc-eed2831021ea",
   "metadata": {},
   "source": [
    "### Readout pulse amp and duration (by qubit relaxation during readout)"
   ]
  },
  {
   "cell_type": "code",
   "execution_count": null,
   "id": "264d3499-c9d4-4e01-bc86-4f0576884c8b",
   "metadata": {},
   "outputs": [],
   "source": [
    "%matplotlib qt\n",
    "res_duration_sweep_abs = np.arange(300, 2000 + 1, 60)\n",
    "res_amp_sweep_abs = np.arange(0.15,0.45,0.002)\n",
    "machine, expt_dataset = Experiment.exp2D.RR.rr_pulse_optimize(machine, res_duration_sweep_abs, res_amp_sweep_abs, qubit_index, n_avg=1E3, \n",
    "                                                              cd_time=25E3, live_plot = True, data_process_method = 'I')"
   ]
  },
  {
   "cell_type": "code",
   "execution_count": null,
   "id": "e66b9e39-2853-45e7-b9bb-e0f707af0a9c",
   "metadata": {},
   "outputs": [],
   "source": [
    "machine.resonators[qubit_index].readout_pulse_amp = 0.45\n",
    "machine.resonators[qubit_index].readout_pulse_length = 600\n",
    "machine = Analysis.set_machine(machine)"
   ]
  },
  {
   "cell_type": "markdown",
   "id": "a436c1a0-dc95-4266-a110-8edff037267e",
   "metadata": {},
   "source": [
    "### Readout duration optimization"
   ]
  },
  {
   "cell_type": "code",
   "execution_count": null,
   "id": "758bd609-7044-4a29-ae15-0ab0c8d4fdad",
   "metadata": {},
   "outputs": [],
   "source": [
    "division_length = 40\n",
    "%matplotlib qt\n",
    "machine, expt_dataset = Experiment.exp1D.RR.single_shot_duration_optimization(machine, division_length, qubit_index,\n",
    "                                                                    readout_len = 2000, n_avg = 10E3, cd_time = 25E3)"
   ]
  },
  {
   "cell_type": "code",
   "execution_count": null,
   "id": "b01b0f85-e7d7-4385-bcf5-f0c14b71cf15",
   "metadata": {},
   "outputs": [],
   "source": [
    "machine.resonators[qubit_index].readout_pulse_length = 940\n",
    "machine = Analysis.set_machine(machine)"
   ]
  },
  {
   "cell_type": "markdown",
   "id": "0e0e8d4e-cab8-439b-a259-df07e1aa15ea",
   "metadata": {},
   "source": [
    "### Readout amp optimization"
   ]
  },
  {
   "cell_type": "code",
   "execution_count": null,
   "id": "6baa1dcf-9dac-4560-a1d2-45dcedb480c2",
   "metadata": {},
   "outputs": [],
   "source": [
    "res_amp_sweep = np.arange(0.5,1.5 + 1E-4, 0.01)\n",
    "\n",
    "%matplotlib qt\n",
    "machine, expt_dataset = Experiment.exp1D.RR.single_shot_amp_optimization(machine, res_amp_sweep, qubit_index,\n",
    "                              n_avg = 5E3, cd_time = 25E3, final_plot= True)"
   ]
  },
  {
   "cell_type": "code",
   "execution_count": null,
   "id": "70eb623a-1104-4d26-9b8f-d091c7904ecf",
   "metadata": {},
   "outputs": [],
   "source": [
    "%matplotlib inline\n",
    "readout_amp = Analysis.exp1D.peak_fit(expt_dataset, method=\"Gaussian\", data_process_method = 'Fidelity')"
   ]
  },
  {
   "cell_type": "code",
   "execution_count": null,
   "id": "38236c40-a3e3-4f3f-b0ad-033e3dae40c9",
   "metadata": {},
   "outputs": [],
   "source": [
    "machine.resonators[qubit_index].readout_pulse_amp = 0.48\n",
    "machine = Analysis.set_machine(machine)"
   ]
  },
  {
   "cell_type": "markdown",
   "id": "d6af5843",
   "metadata": {},
   "source": [
    "## Qubit T1"
   ]
  },
  {
   "cell_type": "code",
   "execution_count": null,
   "id": "a77d6f5d",
   "metadata": {},
   "outputs": [],
   "source": [
    "%matplotlib qt\n",
    "tau_sweep_abs = np.arange(100,30E3+1,1E3)\n",
    "machine, expt_dataset = Experiment.exp1D.T1.qubit_T1(machine, tau_sweep_abs, qubit_index, n_avg = 4E3, cd_time = 40E3, live_plot = True,\n",
    "                                                               to_simulate = False, simulation_len = 15_000, data_process_method = 'I')"
   ]
  },
  {
   "cell_type": "code",
   "execution_count": null,
   "id": "2733b6dc",
   "metadata": {
    "scrolled": true
   },
   "outputs": [],
   "source": [
    "%matplotlib inline\n",
    "qubit_T1 = Analysis.exp1D.T1(expt_dataset, data_process_method = 'I')\n",
    "machine.qubits[qubit_index].T1 = qubit_T1 + 0E6\n",
    "machine = Analysis.set_machine(machine)"
   ]
  },
  {
   "cell_type": "markdown",
   "id": "d347eddd",
   "metadata": {},
   "source": [
    "## Qubit Ramsey"
   ]
  },
  {
   "cell_type": "code",
   "execution_count": null,
   "id": "3d11310d",
   "metadata": {},
   "outputs": [],
   "source": [
    "%matplotlib qt\n",
    "ramsey_duration_sweep = np.arange(16, 20000 + 0.1, 60)  # in units of ns\n",
    "machine, expt_dataset = Experiment.exp1D.Ramsey.ramsey(machine, ramsey_duration_sweep, qubit_index, detuning = 1E6, live_plot = True,\n",
    "                                                       n_avg = 2E3, cd_time = 25E3, to_simulate = False, data_process_method = 'I')"
   ]
  },
  {
   "cell_type": "code",
   "execution_count": null,
   "id": "873c1753",
   "metadata": {
    "scrolled": true
   },
   "outputs": [],
   "source": [
    "%matplotlib inline\n",
    "q_T2star = Analysis.exp1D.ramsey(expt_dataset, data_process_method = 'I')\n",
    "machine.qubits[qubit_index].T2 = q_T2star + 0E6\n",
    "machine = Analysis.set_machine(machine)"
   ]
  },
  {
   "cell_type": "markdown",
   "id": "ed8d29cf",
   "metadata": {},
   "source": [
    "## ef transition"
   ]
  },
  {
   "cell_type": "markdown",
   "id": "b02eb745",
   "metadata": {},
   "source": [
    "### ef frequency"
   ]
  },
  {
   "cell_type": "code",
   "execution_count": null,
   "id": "1ef197b3",
   "metadata": {},
   "outputs": [],
   "source": [
    "%matplotlib qt\n",
    "ef_freq_sweep = machine.qubits[qubit_index].f_01 + np.arange(-190E6, -150E6 + 1, 0.5E6) \n",
    "machine, expt_dataset = Experiment.exp1D.Rabi.ef_freq(machine, ef_freq_sweep, qubit_index, pi_amp_rel_ef = 1.0, n_avg = 2E3, live_plot = True,\n",
    "                                                      cd_time = 30E3, readout_state = 'g', to_simulate = False, data_process_method = 'I')"
   ]
  },
  {
   "cell_type": "code",
   "execution_count": null,
   "id": "17805410",
   "metadata": {},
   "outputs": [],
   "source": [
    "%matplotlib inline\n",
    "ef_freq = Analysis.exp1D.peak_fit(expt_dataset, method=\"Gaussian\", data_process_method = 'I')"
   ]
  },
  {
   "cell_type": "code",
   "execution_count": null,
   "id": "e47e8184",
   "metadata": {},
   "outputs": [],
   "source": [
    "machine.qubits[qubit_index].anharmonicity = machine.qubits[qubit_index].f_01 - ef_freq\n",
    "machine = Analysis.set_machine(machine)"
   ]
  },
  {
   "cell_type": "markdown",
   "id": "8f0a1612",
   "metadata": {},
   "source": [
    "### ef transition time Rabi"
   ]
  },
  {
   "cell_type": "code",
   "execution_count": null,
   "id": "c47d6997",
   "metadata": {},
   "outputs": [],
   "source": [
    "%matplotlib qt\n",
    "rabi_duration_sweep = np.arange(16, 240 + 0.1, 4)  # in ns\n",
    "rabi_duration_sweep = rabi_duration_sweep.astype(int)\n",
    "machine, expt_dataset = Experiment.exp1D.Rabi.ef_rabi_length(machine, rabi_duration_sweep, qubit_index, pi_amp_rel_ef = 1.0, live_plot = True,\n",
    "                                                                             n_avg = 2E3, cd_time = 30E3, readout_state = 'g', \n",
    "                                                                             to_simulate = False, simulation_len = 10_000, data_process_method = 'I')"
   ]
  },
  {
   "cell_type": "code",
   "execution_count": null,
   "id": "628e087d",
   "metadata": {},
   "outputs": [],
   "source": [
    "%matplotlib inline\n",
    "pi_pulse_length = Analysis.exp1D.rabi_length(expt_dataset, data_process_method = 'I')"
   ]
  },
  {
   "cell_type": "code",
   "execution_count": null,
   "id": "b0d01dbe",
   "metadata": {},
   "outputs": [],
   "source": [
    "machine.qubits[qubit_index].pi_length_ef = 180\n",
    "machine = Analysis.set_machine(machine)"
   ]
  },
  {
   "cell_type": "markdown",
   "id": "80afaf56",
   "metadata": {},
   "source": [
    "### ef transition power Rabi"
   ]
  },
  {
   "cell_type": "code",
   "execution_count": null,
   "id": "f81a5391",
   "metadata": {},
   "outputs": [],
   "source": [
    "%matplotlib qt\n",
    "rabi_amp_sweep_rel = np.arange(0.2, 2.0, 0.025) \n",
    "machine, expt_dataset = Experiment.exp1D.Rabi.ef_rabi_amp(machine, rabi_amp_sweep_rel, qubit_index, n_avg = 2E3, cd_time = 30E3, live_plot = True,\n",
    "                                                          readout_state = 'g', to_simulate = False, simulation_len = 1000, data_process_method = 'I')"
   ]
  },
  {
   "cell_type": "code",
   "execution_count": null,
   "id": "307b7fc8",
   "metadata": {},
   "outputs": [],
   "source": [
    "%matplotlib inline\n",
    "pi_pulse_amp = Analysis.exp1D.rabi_length(expt_dataset, method = \"Sine\", data_process_method = 'I')"
   ]
  },
  {
   "cell_type": "code",
   "execution_count": null,
   "id": "73541a8a",
   "metadata": {},
   "outputs": [],
   "source": [
    "machine.qubits[qubit_index].pi_amp_ef = pi_pulse_amp\n",
    "machine = Analysis.set_machine(machine)"
   ]
  },
  {
   "cell_type": "markdown",
   "id": "07e3862d",
   "metadata": {},
   "source": [
    "## 2D qubit spectroscopy vs dc flux"
   ]
  },
  {
   "cell_type": "code",
   "execution_count": null,
   "id": "15755e8f",
   "metadata": {
    "scrolled": true
   },
   "outputs": [],
   "source": [
    "# try the experiment\n",
    "%matplotlib qt\n",
    "dc_flux_sweep = machine.dc_flux[dc_flux_index].max_frequency_point + np.arange(-1.2,1.2+1E-4,0.05)\n",
    "qubit_if_sweep = np.arange(-100E6, 100E6, 1E6)\n",
    "machine, expt_dataset = Experiment.exp2D.Rabi.qubit_freq_vs_dc_flux(machine, dc_flux_sweep, qubit_if_sweep, qubit_index,\n",
    "                                 n_avg = 500, cd_time = 25E3, final_plot = True, live_plot = False)"
   ]
  },
  {
   "cell_type": "code",
   "execution_count": null,
   "id": "c50d8fa7",
   "metadata": {},
   "outputs": [],
   "source": [
    "# udpate the sweet spot\n",
    "%matplotlib inline\n",
    "poly_param = Analysis.exp2D.qubit_vs_flux(expt_dataset, fit_order = 2, to_plot = False)\n",
    "machine.dc_flux[dc_flux_index].max_frequency_point = Analysis.get_sweept_spot(poly_param) + 0E1\n",
    "print(f\"sweet spot flux: {machine.dc_flux[dc_flux_index].max_frequency_point:.5f} V\")"
   ]
  },
  {
   "cell_type": "code",
   "execution_count": null,
   "id": "68b35bb7",
   "metadata": {},
   "outputs": [],
   "source": [
    "# save the sweep spot flux according to fitted parameter\n",
    "poly_param = Analysis.exp2D.qubit_vs_flux(expt_dataset, fit_order = 4, to_plot = True)\n",
    "machine.qubits[qubit_index].DC_tuning_curve = poly_param\n",
    "machine = Analysis.set_machine(machine)"
   ]
  },
  {
   "cell_type": "code",
   "execution_count": null,
   "id": "63b74100-e670-45f9-a539-2b7b0bed8c3b",
   "metadata": {},
   "outputs": [],
   "source": [
    "# go to the sweet spot, if needed\n",
    "machine.dc_flux[dc_flux_index].dc_voltage = machine.dc_flux[dc_flux_index].max_frequency_point\n",
    "machine = Experiment.set_Labber.set_Labber(machine, qubit_index)\n",
    "machine = Analysis.set_machine(machine)"
   ]
  },
  {
   "cell_type": "markdown",
   "id": "8164027c",
   "metadata": {},
   "source": [
    "## 2D qubit spectroscopy vs fast flux"
   ]
  },
  {
   "cell_type": "code",
   "execution_count": null,
   "id": "1afc5b22",
   "metadata": {},
   "outputs": [],
   "source": [
    "# set DC voltage to sweet spot, after possible dc flux sweep\n",
    "machine.dc_flux[dc_flux_index].dc_voltage = machine.dc_flux[dc_flux_index].max_frequency_point\n",
    "machine = Experiment.set_Labber.set_Labber(machine, qubit_index)\n",
    "machine = Analysis.set_machine(machine)"
   ]
  },
  {
   "cell_type": "markdown",
   "id": "a6e48433",
   "metadata": {},
   "source": [
    "### slow version, compiling 1D scans"
   ]
  },
  {
   "cell_type": "code",
   "execution_count": null,
   "id": "10fe63b6",
   "metadata": {
    "scrolled": true
   },
   "outputs": [],
   "source": [
    "# try the experiment\n",
    "%matplotlib qt\n",
    "#ff_sweep = np.arange(-0.02,-0.28-1E-4,-0.02)\n",
    "ff_sweep = np.arange(0,0.25+1E-4,0.05)\n",
    "qubit_if_sweep = np.arange(-60E6, 60E6 + 1, 1E6)\n",
    "if False: # first time running this, no AC_tuning_curve\n",
    "    machine, expt_dataset = Experiment.exp2D.Rabi.qubit_freq_vs_fast_flux_slow(machine, ff_sweep,qubit_if_sweep,\n",
    "          qubit_index, ff_to_dc_ratio = 5.5, n_avg = 1E3, cd_time = 25E3)\n",
    "else: # after the first run \n",
    "    machine, expt_dataset = Experiment.exp2D.Rabi.qubit_freq_vs_fast_flux_slow(machine, ff_sweep,qubit_if_sweep,\n",
    "          qubit_index, ff_to_dc_ratio = None, n_avg = 1E3, cd_time = 25E3)"
   ]
  },
  {
   "cell_type": "code",
   "execution_count": null,
   "id": "32fd2424",
   "metadata": {},
   "outputs": [],
   "source": [
    "# save the fitted tuning curve\n",
    "%matplotlib inline\n",
    "poly_param = Analysis.exp2D.qubit_vs_flux(expt_dataset, fit_order = 4, to_plot = True, data_process_method = 'I')\n",
    "machine.qubits[qubit_index].AC_tuning_curve = poly_param\n",
    "machine = Analysis.set_machine(machine)"
   ]
  },
  {
   "cell_type": "markdown",
   "id": "aca48e4e",
   "metadata": {},
   "source": [
    "### fast version, runs blockwise 2D sweeps"
   ]
  },
  {
   "cell_type": "code",
   "execution_count": null,
   "id": "72d896d5",
   "metadata": {
    "scrolled": true
   },
   "outputs": [],
   "source": [
    "%matplotlib qt\n",
    "q_freq_max = np.floor(np.polyval(machine.qubits[qubit_index].AC_tuning_curve, 0.0) * 1E6)\n",
    "qubit_freq_sweep = np.arange(q_freq_max, 4E9, -5E6)\n",
    "qubit_if_sweep = np.arange(-60E6, 60E6 + 1, 0.5E6)\n",
    "machine, expt_dataset = Experiment.exp2D.Rabi.qubit_freq_vs_fast_flux(machine, qubit_freq_sweep,qubit_if_sweep,\n",
    "          qubit_index, n_avg = 4E3, cd_time = 20E3, final_plot = True, live_plot = True)"
   ]
  },
  {
   "cell_type": "code",
   "execution_count": 4,
   "id": "f2577e29",
   "metadata": {
    "scrolled": true
   },
   "outputs": [
    {
     "data": {
      "image/png": "[encoded data removed]",
      "text/plain": [
       "<Figure size 640x480 with 2 Axes>"
      ]
     },
     "metadata": {},
     "output_type": "display_data"
    }
   ],
   "source": [
    "# save the fitted tuning curve\n",
    "%matplotlib inline\n",
    "poly_param = Analysis.exp2D.qubit_vs_flux(expt_dataset, fit_order = 4, to_plot = True, data_process_method = 'I')\n",
    "machine.qubits[qubit_index].AC_tuning_curve = poly_param\n",
    "machine = Analysis.set_machine(machine)"
   ]
  },
  {
   "cell_type": "markdown",
   "id": "27a943af",
   "metadata": {},
   "source": [
    "# TLS experiments"
   ]
  },
  {
   "cell_type": "markdown",
   "id": "38b715fc",
   "metadata": {},
   "source": [
    "## TLS SWAP spectroscopy"
   ]
  },
  {
   "cell_type": "code",
   "execution_count": null,
   "id": "cec4abd9",
   "metadata": {},
   "outputs": [],
   "source": [
    "# Go back to the sweet spot and calibrate\n",
    "machine.qubits[qubit_index].f_01 = int(np.floor(np.polyval(machine.qubits[qubit_index].AC_tuning_curve, 0.0) * 1E6)) + 0E6\n",
    "machine.qubits[qubit_index].lo = machine.qubits[qubit_index].f_01 + 50E6\n",
    "machine = Analysis.set_machine(machine)"
   ]
  },
  {
   "cell_type": "code",
   "execution_count": null,
   "id": "708f7b6f",
   "metadata": {
    "scrolled": true
   },
   "outputs": [],
   "source": [
    "Experiment.octave_calibration(qubit_index,res_index,flux_index,machine=machine,calibration_flag=True)"
   ]
  },
  {
   "cell_type": "markdown",
   "id": "92c7acfa",
   "metadata": {},
   "source": [
    "### coarse, no baking"
   ]
  },
  {
   "cell_type": "code",
   "execution_count": null,
   "id": "00622ab7",
   "metadata": {},
   "outputs": [],
   "source": [
    "%matplotlib qt\n",
    "tau_sweep_abs = np.arange(16,160 + 0.1,4)\n",
    "ff_sweep_abs = np.arange(0.1,0.5,0.001)\n",
    "machine, ff_sweep_abs, tau_sweep_abs, sig_amp = Experiment.exp2D.SWAP.swap_coarse(tau_sweep_abs, ff_sweep_abs, qubit_index, res_index, flux_index, \n",
    "                      n_avg = 5E3, cd_time = 20E3, simulate_flag=False, simulation_len=10_000, plot_flag=True, machine = machine)"
   ]
  },
  {
   "cell_type": "markdown",
   "id": "a4c4c8a6",
   "metadata": {},
   "source": [
    "### fine, with baking"
   ]
  },
  {
   "cell_type": "code",
   "execution_count": null,
   "id": "9006ca81",
   "metadata": {},
   "outputs": [],
   "source": [
    "%matplotlib qt\n",
    "tau_sweep_abs = np.arange(4,100,1)\n",
    "ff_sweep_abs = np.arange(0.32,0.34+1E-4,0.0001)\n",
    "machine, ff_sweep_abs, tau_sweep_abs, sig_amp = Experiment.exp2D.SWAP.swap_fine(tau_sweep_abs, ff_sweep_abs, qubit_index, res_index, flux_index, \n",
    "                      n_avg = 1E3, cd_time = 20E3, simulate_flag=False, simulation_len=10_000, plot_flag=True, machine = machine)"
   ]
  },
  {
   "cell_type": "code",
   "execution_count": null,
   "id": "f0e9554e",
   "metadata": {},
   "outputs": [],
   "source": [
    "machine.flux_lines[flux_index].iswap.length.append(20)\n",
    "machine.flux_lines[flux_index].iswap.level.append(0.3278)\n",
    "machine = Analysis.set_machine(machine)"
   ]
  },
  {
   "cell_type": "markdown",
   "id": "9e9a7064",
   "metadata": {},
   "source": [
    "### estiguess of the TLS freq., based on SWAP flux"
   ]
  },
  {
   "cell_type": "code",
   "execution_count": null,
   "id": "2d52fa3d",
   "metadata": {},
   "outputs": [],
   "source": [
    "machine = Analysis.get_machine()"
   ]
  },
  {
   "cell_type": "code",
   "execution_count": null,
   "id": "efc4d8f8",
   "metadata": {},
   "outputs": [],
   "source": [
    "freq_tls = np.polyval(machine.qubits[qubit_index].AC_tuning_curve,machine.flux_lines[flux_index].iswap.level)\n",
    "machine.qubits[qubit_index].f_tls.append(np.floor(freq_tls[-1]*1E6))    \n",
    "machine = Analysis.set_machine(machine)"
   ]
  },
  {
   "cell_type": "markdown",
   "id": "e16067f7",
   "metadata": {},
   "source": [
    "## TLS T1"
   ]
  },
  {
   "cell_type": "code",
   "execution_count": null,
   "id": "f02b322e",
   "metadata": {},
   "outputs": [],
   "source": [
    "TLS_index = 1"
   ]
  },
  {
   "cell_type": "code",
   "execution_count": null,
   "id": "3c85f9be",
   "metadata": {},
   "outputs": [],
   "source": [
    "%matplotlib qt\n",
    "tau_sweep_abs = np.arange(100,5000E3+1,1E5)\n",
    "#tau_sweep_abs = np.logspace(100,2000E3,50,endpoint=True)\n",
    "machine, tau_sweep_abs, sig_amp = Experiment.exp1D.T1.TLS_T1(tau_sweep_abs, qubit_index, res_index, flux_index, TLS_index,\n",
    "                   n_avg = 5E3, cd_time_qubit = 30E3, cd_time_TLS = 10000E3, simulate_flag = False, simulation_len = 15_000, plot_flag = True)"
   ]
  },
  {
   "cell_type": "code",
   "execution_count": null,
   "id": "d90ed2c5",
   "metadata": {},
   "outputs": [],
   "source": [
    "%matplotlib inline\n",
    "TLS_T1 = Analysis.exp1D.T1(tau_sweep_abs,sig_amp,method = \"exp\")"
   ]
  },
  {
   "cell_type": "markdown",
   "id": "f56bc3e8",
   "metadata": {},
   "source": [
    "## TLS drive"
   ]
  },
  {
   "cell_type": "markdown",
   "id": "3f619835",
   "metadata": {},
   "source": [
    "### TLS spectroscopy"
   ]
  },
  {
   "cell_type": "code",
   "execution_count": null,
   "id": "2dffeaa2",
   "metadata": {},
   "outputs": [],
   "source": [
    "TLS_index = 0"
   ]
  },
  {
   "cell_type": "code",
   "execution_count": null,
   "id": "e934b25b",
   "metadata": {},
   "outputs": [],
   "source": [
    "# TLS freq estimate based on SWAP flux amplitude\n",
    "TLS_freq_est = np.polyval(machine.qubits[qubit_index].AC_tuning_curve,machine.flux_lines[flux_index].iswap.level[TLS_index])\n",
    "TLS_freq_est = np.round(TLS_freq_est * 1E6)\n",
    "machine.qubits[qubit_index].f_tls[TLS_index+1] = (int(TLS_freq_est.tolist())) + 0E6\n",
    "machine.qubits[qubit_index].lo = int(TLS_freq_est.tolist()) - 200E6"
   ]
  },
  {
   "cell_type": "code",
   "execution_count": null,
   "id": "6d802060",
   "metadata": {},
   "outputs": [],
   "source": [
    "# set the \"qubit frequency\"\n",
    "machine.qubits[qubit_index].f_01 = machine.qubits[qubit_index].f_tls[TLS_index+1] + 0E6\n",
    "machine = Analysis.set_machine(machine)"
   ]
  },
  {
   "cell_type": "code",
   "execution_count": null,
   "id": "c801b7a4",
   "metadata": {},
   "outputs": [],
   "source": [
    "# calibrate octave for TLS sweep\n",
    "Experiment.octave_calibration(qubit_index,res_index,flux_index,machine = machine,calibration_flag = True)"
   ]
  },
  {
   "cell_type": "code",
   "execution_count": null,
   "id": "a10a09b8",
   "metadata": {},
   "outputs": [],
   "source": [
    "%matplotlib qt\n",
    "TLS_freq_sweep = machine.qubits[qubit_index].f_01 + np.arange(-70E6,70E6+1,1.0E6)\n",
    "machine, TLS_freq_sweep, sig_amp = Experiment.exp1D.Rabi.TLS_freq(TLS_freq_sweep, qubit_index, res_index, flux_index, TLS_index,\n",
    "                  n_avg = 1E3, cd_time_qubit = 20E3, cd_time_TLS = 200E3, simulate_flag = False, simulation_len = 10_000, plot_flag = True, machine = machine)"
   ]
  },
  {
   "cell_type": "code",
   "execution_count": null,
   "id": "8288b6fb",
   "metadata": {
    "scrolled": true
   },
   "outputs": [],
   "source": [
    "%matplotlib inline\n",
    "qubit_freq = Analysis.exp1D.peak_fit(x=TLS_freq_sweep,y=sig_amp,method=\"gaussian\")\n",
    "qubit_freq = int(qubit_freq.tolist())\n",
    "machine.qubits[qubit_index].f_tls[TLS_index+1] = qubit_freq + 0E6\n",
    "machine.qubits[qubit_index].lo = qubit_freq - 200E6\n",
    "machine = Analysis.set_machine(machine)"
   ]
  },
  {
   "cell_type": "markdown",
   "id": "8dea7ec4",
   "metadata": {},
   "source": [
    "### TLS rabi"
   ]
  },
  {
   "cell_type": "code",
   "execution_count": null,
   "id": "8f115680",
   "metadata": {},
   "outputs": [],
   "source": [
    "# save the current qubit to the f_tls[0]\n",
    "machine.qubits[qubit_index].f_tls[0] = machine.qubits[qubit_index].f_01\n",
    "# set the \"qubit frequency\"\n",
    "machine.qubits[qubit_index].f_01 = machine.qubits[qubit_index].f_tls[TLS_index+1]"
   ]
  },
  {
   "cell_type": "code",
   "execution_count": null,
   "id": "6fdb039f",
   "metadata": {},
   "outputs": [],
   "source": [
    "%matplotlib qt\n",
    "rabi_duration_sweep = np.arange(4, 300 + 0.1, 4)  # in units of clock cyles\n",
    "machine, rabi_duration_sweep, sig_amp = Experiment.exp1D.Rabi.TLS_rabi_length(rabi_duration_sweep, qubit_index, res_index, flux_index, TLS_index,\n",
    "                  pi_amp_rel = 1.0, n_avg = 10E3, cd_time_qubit = 20E3, cd_time_TLS = 20E3, simulate_flag = False, simulation_len = 10_000, plot_flag = True, machine = machine)"
   ]
  },
  {
   "cell_type": "code",
   "execution_count": null,
   "id": "c14fe89d",
   "metadata": {},
   "outputs": [],
   "source": []
  },
  {
   "cell_type": "code",
   "execution_count": null,
   "id": "0cb677b2",
   "metadata": {},
   "outputs": [],
   "source": []
  }
 ],
 "metadata": {
  "kernelspec": {
   "display_name": "Python 3 (ipykernel)",
   "language": "python",
   "name": "python3"
  },
  "language_info": {
   "codemirror_mode": {
    "name": "ipython",
    "version": 3
   },
   "file_extension": ".py",
   "mimetype": "text/x-python",
   "name": "python",
   "nbconvert_exporter": "python",
   "pygments_lexer": "ipython3",
   "version": "3.9.19"
  }
 },
 "nbformat": 4,
 "nbformat_minor": 5
}
