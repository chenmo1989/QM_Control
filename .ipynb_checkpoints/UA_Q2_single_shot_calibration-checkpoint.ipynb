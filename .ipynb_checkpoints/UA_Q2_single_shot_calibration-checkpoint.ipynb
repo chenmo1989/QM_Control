{
 "cells": [
  {
   "cell_type": "markdown",
   "id": "a4840294",
   "metadata": {},
   "source": [
    "# Single-Shot Readout Calibration for UA Q2"
   ]
  },
  {
   "cell_type": "markdown",
   "id": "692d00ed",
   "metadata": {},
   "source": [
    "### Using Experiment and Analysis Class, make sure to update qubit #"
   ]
  },
  {
   "cell_type": "code",
   "execution_count": 1,
   "id": "e1662d07",
   "metadata": {},
   "outputs": [
    {
     "name": "stdout",
     "output_type": "stream",
     "text": [
      "2024-05-14 11:59:45,064 - qm - INFO     - Starting session: 37f0fd1a-4ee5-4da1-ab62-522779282254\n"
     ]
    }
   ],
   "source": [
    "from qm.qua import *\n",
    "from qm import QuantumMachinesManager, SimulationConfig, LoopbackInterface, generate_qua_script\n",
    "from qm.octave import *\n",
    "from configuration import *\n",
    "from scipy import signal\n",
    "from qualang_tools.bakery import baking\n",
    "from qm.octave import QmOctaveConfig\n",
    "from quam import QuAM\n",
    "from scipy.io import savemat, loadmat\n",
    "from scipy.optimize import curve_fit\n",
    "from scipy.signal import savgol_filter\n",
    "#from qutip import *\n",
    "from typing import Union\n",
    "from macros import *\n",
    "import datetime \n",
    "import os\n",
    "import time\n",
    "import warnings\n",
    "import json\n",
    "import matplotlib.pyplot as plt\n",
    "import numpy as np\n",
    "import Labber\n",
    "import xarray as xr\n",
    "\n",
    "from ExperimentClass import ExperimentHandle\n",
    "from AnalysisClass import AnalysisHandle\n",
    "\n",
    "warnings.filterwarnings(\"ignore\")\n",
    "\n",
    "qubit_index = 0 # for UA Q2\n",
    "TLS_index = 0 # for TLS of interest\n",
    "dc_flux_index = 1 # for dc line"
   ]
  },
  {
   "cell_type": "code",
   "execution_count": 2,
   "id": "d9c45e83",
   "metadata": {},
   "outputs": [],
   "source": [
    "Experiment = ExperimentHandle()\n",
    "Analysis = AnalysisHandle(\"quam_state_q1.json\")\n",
    "machine = Analysis.get_machine()"
   ]
  },
  {
   "cell_type": "code",
   "execution_count": null,
   "id": "8447b8fe",
   "metadata": {},
   "outputs": [],
   "source": [
    "# initialize Labber-controlled hardware\n",
    "# get values from QDAC first\n",
    "machine = Experiment.set_Labber.get_value_from_QDAC(machine)\n",
    "# set all Labber settings\n",
    "machine = Experiment.set_Labber.set_Labber(machine, qubit_index)\n",
    "# set octave to external clock\n",
    "Experiment.set_octave.set_clock(machine)"
   ]
  },
  {
   "cell_type": "code",
   "execution_count": null,
   "id": "0274806a",
   "metadata": {},
   "outputs": [],
   "source": [
    "machine.octaves[0].LO_sources[1].LO_frequency = machine.qubits[qubit_index].f_01 + 50e6\n",
    "machine = Analysis.set_machine(machine)"
   ]
  },
  {
   "cell_type": "code",
   "execution_count": null,
   "id": "8595c7d5",
   "metadata": {},
   "outputs": [],
   "source": [
    "# octave calibration\n",
    "machine = Experiment.set_octave.calibration(machine, qubit_index)"
   ]
  },
  {
   "cell_type": "markdown",
   "id": "d7eb970c",
   "metadata": {},
   "source": [
    "## 1D resonator spectroscopy"
   ]
  },
  {
   "cell_type": "code",
   "execution_count": null,
   "id": "6c02f74a",
   "metadata": {},
   "outputs": [],
   "source": [
    "%matplotlib qt\n",
    "res_freq_sweep = machine.resonators[qubit_index].f_readout + np.arange(-5E6,5E6 + 1.0,0.05E6)\n",
    "machine, expt_dataset = Experiment.exp1D.RR.rr_freq_ge(machine, res_freq_sweep, qubit_index, n_avg = 1E3, cd_time = 10E3,\n",
    "                                                    to_simulate = False, simulation_len = 1000, live_plot = True)"
   ]
  },
  {
   "cell_type": "code",
   "execution_count": null,
   "id": "88e7fe4d-b22d-4428-8b3c-a4b84599bd71",
   "metadata": {
    "scrolled": true
   },
   "outputs": [],
   "source": [
    "%matplotlib inline\n",
    "res_freq_phase = Analysis.exp1D.rr_freq_ge(expt_dataset)"
   ]
  },
  {
   "cell_type": "code",
   "execution_count": null,
   "id": "f4817367-5b1e-472b-ac88-51ca17e37734",
   "metadata": {},
   "outputs": [],
   "source": [
    "# doesn't have to update. Use res_freq_phase\n",
    "machine.resonators[qubit_index].f_readout = res_freq + 0E6\n",
    "machine.octaves[0].LO_sources[0].LO_frequency = machine.resonators[qubit_index].f_readout + 50E6\n",
    "machine = Experiment.set_octave.calibration(machine, qubit_index)\n",
    "machine = Analysis.set_machine(machine)"
   ]
  },
  {
   "cell_type": "markdown",
   "id": "0bc723e7",
   "metadata": {},
   "source": [
    "## 1D qubit spectroscopy"
   ]
  },
  {
   "cell_type": "code",
   "execution_count": null,
   "id": "bd113f2c",
   "metadata": {},
   "outputs": [],
   "source": [
    "qubit_freq_sweep = machine.qubits[qubit_index].f_01 + np.arange(-30E6, 30E6 + 1, 0.5E6)        \n",
    "%matplotlib qt\n",
    "machine, expt_dataset = Experiment.exp1D.Rabi.qubit_freq(machine, qubit_freq_sweep, qubit_index, pi_amp_rel = 1.0, to_plot = False,\n",
    "                                                         ff_amp = 0.0, n_avg = 1E3, cd_time = 30E3, simulate_flag = False, simulation_len = 1000)"
   ]
  },
  {
   "cell_type": "code",
   "execution_count": null,
   "id": "3ad33a6a",
   "metadata": {},
   "outputs": [],
   "source": [
    "%matplotlib inline\n",
    "qubit_freq = Analysis.exp1D.peak_fit(expt_dataset,method=\"Gaussian\")\n",
    "machine.qubits[qubit_index].f_01 = qubit_freq + 0E6\n",
    "machine.octaves[0].LO_sources[1].LO_frequency = machine.qubits[qubit_index].f_01 + 50e6\n",
    "machine = Experiment.set_octave.calibration(machine, qubit_index)\n",
    "machine = Analysis.set_machine(machine)"
   ]
  },
  {
   "cell_type": "markdown",
   "id": "6c252c1e",
   "metadata": {},
   "source": [
    "## Measure single-shot I, Q blobs"
   ]
  },
  {
   "cell_type": "code",
   "execution_count": null,
   "id": "5ac68f1d-1186-4ac7-a2ce-0d2365510a5c",
   "metadata": {},
   "outputs": [],
   "source": [
    "%matplotlib inline\n",
    "machine, expt_dataset = Experiment.exp1D.RR.single_shot_IQ_blob(machine, qubit_index, n_avg = 30E3, cd_time = 30E3, live_plot = False)"
   ]
  },
  {
   "cell_type": "code",
   "execution_count": null,
   "id": "17d34b84",
   "metadata": {},
   "outputs": [],
   "source": [
    "%matplotlib inline\n",
    "angle, threshold, fidelity, gg, ge, eg, ee = Analysis.exp1D.two_state_discriminator(expt_dataset)"
   ]
  },
  {
   "cell_type": "code",
   "execution_count": null,
   "id": "1719b804",
   "metadata": {},
   "outputs": [],
   "source": [
    "# set the rotation angle\n",
    "machine.resonators[qubit_index].rotation_angle -= angle # note this is the change value not the absolute value!\n",
    "machine.resonators[qubit_index].ge_threshold = threshold\n",
    "machine = Analysis.set_machine(machine)"
   ]
  },
  {
   "cell_type": "markdown",
   "id": "e55505a8",
   "metadata": {},
   "source": [
    "## optimize readout duration and amp"
   ]
  },
  {
   "cell_type": "code",
   "execution_count": null,
   "id": "150c048d",
   "metadata": {},
   "outputs": [],
   "source": [
    "%matplotlib qt\n",
    "res_duration_sweep_abs = np.arange(300, 2000 + 1, 20)\n",
    "res_amp_sweep = np.arange(0.05,0.5,0.002)\n",
    "machine, res_amp_sweep, res_duration_sweep_abs, sig_amp = Experiment.exp2D.RR.rr_pulse_optimize(res_duration_sweep_abs, res_amp_sweep, qubit_index, res_index, flux_index, \n",
    "                    n_avg=10E3, cd_time=20E3, simulate_flag=False, simulation_len=1000, plot_flag=True, machine=machine)"
   ]
  },
  {
   "cell_type": "code",
   "execution_count": null,
   "id": "cba403f7",
   "metadata": {},
   "outputs": [],
   "source": [
    "machine.resonators[res_index].readout_pulse_amp = 0.5\n",
    "machine.resonators[res_index].readout_pulse_length = 1096\n",
    "machine = Analysis.set_machine(machine)"
   ]
  },
  {
   "cell_type": "markdown",
   "id": "faa5b838",
   "metadata": {},
   "source": [
    "## optimize single-shot frequency"
   ]
  },
  {
   "cell_type": "code",
   "execution_count": null,
   "id": "2d779fe2",
   "metadata": {},
   "outputs": [],
   "source": [
    "res_freq_sweep = machine.resonators[qubit_index].f_readout + np.arange(-1.5E6, 1.5E6 + 1, 0.02E6)\n",
    "\n",
    "%matplotlib qt\n",
    "machine, expt_dataset = Experiment.exp1D.RR.single_shot_freq_optimization(machine, res_freq_sweep, qubit_index, n_avg = 2E3, cd_time = 25E3, \n",
    "                                                           final_plot = True, live_plot = True)"
   ]
  },
  {
   "cell_type": "code",
   "execution_count": null,
   "id": "b143c6ea-e927-4f66-b844-3cc4c6f722a7",
   "metadata": {},
   "outputs": [],
   "source": [
    "%matplotlib inline\n",
    "res_freq = Analysis.exp1D.peak_fit(expt_dataset,method=\"Gaussian\", SNR = True)"
   ]
  },
  {
   "cell_type": "code",
   "execution_count": null,
   "id": "94b74f7b",
   "metadata": {},
   "outputs": [],
   "source": [
    "machine.resonators[qubit_index].f_readout = res_freq + 0E6\n",
    "machine.octaves[0].LO_sources[0].LO_frequency = machine.resonators[qubit_index].f_readout + 50E6\n",
    "machine = Analysis.set_machine(machine)\n",
    "# octave calibration\n",
    "machine = Experiment.set_octave.calibration(machine, qubit_index)"
   ]
  },
  {
   "cell_type": "markdown",
   "id": "32bb110d",
   "metadata": {},
   "source": [
    "# These are from QM, and I don't think they work very well..."
   ]
  },
  {
   "cell_type": "markdown",
   "id": "e6bb4dbf",
   "metadata": {},
   "source": [
    "## optimize single-shot amplitude"
   ]
  },
  {
   "cell_type": "code",
   "execution_count": null,
   "id": "ea1dab50",
   "metadata": {},
   "outputs": [],
   "source": [
    "res_amp_sweep = np.arange(0.5,1.5 + 1E-4, 0.01)\n",
    "\n",
    "%matplotlib qt\n",
    "machine, expt_dataset = Experiment.exp1D.RR.single_shot_amp_optimization(machine, res_amp_sweep, qubit_index,\n",
    "                              n_avg = 5E3, cd_time = 25E3, final_plot= True)"
   ]
  },
  {
   "cell_type": "code",
   "execution_count": null,
   "id": "b6b71927-3ab4-40c0-8f9b-e4ab86fb7c32",
   "metadata": {},
   "outputs": [],
   "source": [
    "%matplotlib inline\n",
    "readout_amp = Analysis.exp1D.peak_fit_fidelity(expt_dataset,method=\"Gaussian\")"
   ]
  },
  {
   "cell_type": "code",
   "execution_count": null,
   "id": "6d615938",
   "metadata": {},
   "outputs": [],
   "source": [
    "machine.resonators[qubit_index].readout_pulse_amp = 0.45\n",
    "machine = Analysis.set_machine(machine)"
   ]
  },
  {
   "cell_type": "code",
   "execution_count": null,
   "id": "66fcca14-9d02-41bc-8ccc-9afef77b5b39",
   "metadata": {},
   "outputs": [],
   "source": []
  },
  {
   "cell_type": "code",
   "execution_count": null,
   "id": "e976ff56-461e-4aab-b20b-30d463160681",
   "metadata": {},
   "outputs": [],
   "source": [
    "Ig = expt_dataset.Ig.values"
   ]
  },
  {
   "cell_type": "code",
   "execution_count": null,
   "id": "4dac214e-5b31-4882-90d7-890a1ea88467",
   "metadata": {},
   "outputs": [],
   "source": [
    "Ig.shape"
   ]
  },
  {
   "cell_type": "markdown",
   "id": "ab336512",
   "metadata": {},
   "source": [
    "## optimize single-shot readout duration"
   ]
  },
  {
   "cell_type": "code",
   "execution_count": 4,
   "id": "72ddecc7",
   "metadata": {},
   "outputs": [
    {
     "name": "stdout",
     "output_type": "stream",
     "text": [
      "Integration weights chunk-size length in ns: 40\n",
      "The readout has been sliced in the following number of divisions 50\n",
      "Progress: [##################################################] 100.0% (n=10000/10000.0) --> elapsed time: 1.00s\n",
      "Progress: [##################################################] 100.0% (n=10000/10000.0) --> elapsed time: 1.01s\n",
      "Progress: [##################################################] 100.0% (n=10000/10000.0) --> elapsed time: 1.03s\n",
      "Progress: [##################################################] 100.0% (n=10000/10000.0) --> elapsed time: 1.04s\n",
      "Progress: [##################################################] 100.0% (n=10000/10000.0) --> elapsed time: 1.06s\n",
      "Progress: [##################################################] 100.0% (n=10000/10000.0) --> elapsed time: 1.08s\n",
      "Progress: [##################################################] 100.0% (n=10000/10000.0) --> elapsed time: 1.09s\n",
      "Progress: [##################################################] 100.0% (n=10000/10000.0) --> elapsed time: 1.11s\n",
      "Progress: [##################################################] 100.0% (n=10000/10000.0) --> elapsed time: 1.26s\n",
      "Progress: [##################################################] 100.0% (n=10000/10000.0) --> elapsed time: 1.28s\n",
      "----------saved to Z:\\QM_Data_DF5\\2024\\05\\Data_0514\\2024-05-14_q1_single_shot_len_2\n",
      "The optimal readout duration is 1400 ns (Fidelity=70.0%)\n"
     ]
    }
   ],
   "source": [
    "division_length = 40\n",
    "%matplotlib qt\n",
    "machine, expt_dataset = Experiment.exp1D.RR.single_shot_duration_optimization(machine, division_length, qubit_index,\n",
    "                                                                    readout_len = 2000, n_avg = 10E3, cd_time = 25E3)"
   ]
  },
  {
   "cell_type": "code",
   "execution_count": null,
   "id": "69bcdd34",
   "metadata": {},
   "outputs": [],
   "source": [
    "machine.resonators[res_index].readout_pulse_length = 1000\n",
    "machine = Analysis.set_machine(machine)"
   ]
  },
  {
   "cell_type": "code",
   "execution_count": null,
   "id": "6cec236d",
   "metadata": {},
   "outputs": [],
   "source": []
  },
  {
   "cell_type": "code",
   "execution_count": null,
   "id": "ef4806ed",
   "metadata": {},
   "outputs": [],
   "source": []
  },
  {
   "cell_type": "code",
   "execution_count": null,
   "id": "6b41f5cf",
   "metadata": {},
   "outputs": [],
   "source": []
  },
  {
   "cell_type": "code",
   "execution_count": null,
   "id": "caa4b9a8-2db5-48e5-9759-140deb11035c",
   "metadata": {},
   "outputs": [],
   "source": []
  }
 ],
 "metadata": {
  "kernelspec": {
   "display_name": "Python 3 (ipykernel)",
   "language": "python",
   "name": "python3"
  },
  "language_info": {
   "codemirror_mode": {
    "name": "ipython",
    "version": 3
   },
   "file_extension": ".py",
   "mimetype": "text/x-python",
   "name": "python",
   "nbconvert_exporter": "python",
   "pygments_lexer": "ipython3",
   "version": "3.9.19"
  }
 },
 "nbformat": 4,
 "nbformat_minor": 5
}
